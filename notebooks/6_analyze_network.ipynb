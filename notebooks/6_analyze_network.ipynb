{
 "cells": [
  {
   "cell_type": "code",
   "execution_count": 1,
   "metadata": {},
   "outputs": [
    {
     "name": "stdout",
     "output_type": "stream",
     "text": [
      "numpy   1.19.5\n",
      "seaborn 0.11.1\n",
      "pandas  1.1.4\n",
      "\n"
     ]
    }
   ],
   "source": [
    "import numpy as np\n",
    "import matplotlib.pyplot as plt\n",
    "import pandas as pd\n",
    "import warnings\n",
    "import seaborn as sns\n",
    "\n",
    "from scipy.stats import pearsonr\n",
    "\n",
    "sns.set_style(\"darkgrid\")\n",
    "np.random.seed(930525)\n",
    "pd.set_option('display.max_columns', 20)\n",
    "pd.set_option('display.max_rows', 200)\n",
    "\n",
    "warnings.simplefilter('once')\n",
    "\n",
    "%matplotlib inline\n",
    "%load_ext watermark\n",
    "%watermark --iversions"
   ]
  },
  {
   "cell_type": "code",
   "execution_count": 2,
   "metadata": {},
   "outputs": [
    {
     "name": "stderr",
     "output_type": "stream",
     "text": [
      "/home/bhillmann/.conda/envs/type_1/lib/python3.8/site-packages/ipykernel/ipkernel.py:287: DeprecationWarning: `should_run_async` will not call `transform_cell` automatically in the future. Please pass the result to `transformed_cell` argument and any exception that happen during thetransform in `preprocessing_exc_tuple` in IPython 7.17 and above.\n",
      "  and should_run_async(code)\n",
      "/home/bhillmann/.conda/envs/type_1/lib/python3.8/site-packages/patsy/constraint.py:13: DeprecationWarning: Using or importing the ABCs from 'collections' instead of from 'collections.abc' is deprecated since Python 3.3, and in 3.10 it will stop working\n",
      "  from collections import Mapping\n"
     ]
    }
   ],
   "source": [
    "import statsmodels.api as sm\n",
    "\n",
    "import statsmodels.formula.api as smf"
   ]
  },
  {
   "cell_type": "code",
   "execution_count": 3,
   "metadata": {},
   "outputs": [
    {
     "name": "stderr",
     "output_type": "stream",
     "text": [
      "/home/bhillmann/.conda/envs/type_1/lib/python3.8/site-packages/ipykernel/ipkernel.py:287: DeprecationWarning: `should_run_async` will not call `transform_cell` automatically in the future. Please pass the result to `transformed_cell` argument and any exception that happen during thetransform in `preprocessing_exc_tuple` in IPython 7.17 and above.\n",
      "  and should_run_async(code)\n"
     ]
    }
   ],
   "source": [
    "df_dag_train = pd.read_csv(\"../results/dag.prediction.train.response.csv\", sep=\"\\t\")\n",
    "df_dag_train_warp = pd.read_csv(\"../results/dag.prediction.train.response.warp.csv\", sep=\"\\t\")\n",
    "df_train = pd.read_csv(\"../data/train.txt\", index_col=0, header = 0, sep=\"\\t\")\n",
    "df_train_warp = pd.read_csv(\"../data/train.warp.txt\", index_col=0, header = 0, sep=\"\\t\")\n",
    "df_test = pd.read_csv(\"../data/test.txt\", index_col=0, header = 0, sep=\"\\t\")\n",
    "\n",
    "# df_train.columns = [col.replace(\" \", \"_\").replace(\";\", \".\") for col in df_train.columns]"
   ]
  },
  {
   "cell_type": "code",
   "execution_count": 4,
   "metadata": {},
   "outputs": [],
   "source": [
    "# for feature in(features > 0).index:\n",
    "#     if feature not in df_train.columns:\n",
    "#         print(feature)"
   ]
  },
  {
   "cell_type": "code",
   "execution_count": 5,
   "metadata": {},
   "outputs": [],
   "source": [
    "# day_plus_one = [col for col in data.loc[data.sum(axis=0) > 5,].columns if \"Age\" in col]\n",
    "# name = day_plus_one[0]\n",
    "# name = \"day_plus_one.tax.k__Bacteria.p__Firmicutes_A.c__Clostridia.o__Oscillospirales.f__Ruminococcaceae.g__Faecalibacterium.s__Faecalibacterium_prausnitzii\"\n",
    "# v = data.loc[:,name]\n",
    "# v2 = data.loc[:,name]\n",
    "# print(v.loc[v > 0])\n",
    "# print(v2.loc[v2 > 0])\n",
    "day_plus_one = [col for col in df_dag_train.columns if \"day_plus_one\" in col]"
   ]
  },
  {
   "cell_type": "code",
   "execution_count": 6,
   "metadata": {},
   "outputs": [],
   "source": [
    "s_binary = {\"Gender\", \"Supplement\"}"
   ]
  },
  {
   "cell_type": "code",
   "execution_count": 7,
   "metadata": {},
   "outputs": [],
   "source": [
    "# food_and_nutrients = [col for col in df_dag_train_warp.columns if \"food\" in col or \"nutrient\" in col]\n",
    "# df_dag_train_warp[food_and_nutrients].sum(axis=0)"
   ]
  },
  {
   "cell_type": "code",
   "execution_count": 8,
   "metadata": {},
   "outputs": [],
   "source": [
    "# linear_models\n",
    "d_response_2_model = {}\n",
    "for response in day_plus_one:\n",
    "    features = df_dag_train[response]\n",
    "    significant_features = features[features > 0]\n",
    "    if significant_features.sum() > 0:\n",
    "        model_str = \"Q('\" + response + \"')\" + \" ~ \" + \" + \".join([\"Q('\" + _ + \"')\"  if _ not in s_binary else \"C(Q('\" + _ + \"'))\" for _ in significant_features.index]) + \" + 1\"\n",
    "        model = smf.ols(formula=model_str, data=df_train)\n",
    "        res = model.fit_regularized(method=\"elastic_net\", L1_wt=0)\n",
    "        d_response_2_model[response] = res\n",
    "        \n",
    "# linear_models no food\n",
    "d_response_2_model_no_food = {}\n",
    "for response in day_plus_one:\n",
    "    features = df_dag_train[response]\n",
    "    significant_features = features[features > 0]\n",
    "    significant_features = significant_features[[(not (\"nutrient\" in _) or (\"food\" in _)) for _ in significant_features.index]]\n",
    "    if significant_features.sum() > 0:\n",
    "        model_str = \"Q('\" + response + \"')\" + \" ~ \" + \" + \".join([\"Q('\" + _ + \"')\"  if _ not in s_binary else \"C(Q('\" + _ + \"'))\" for _ in significant_features.index]) + \" + 1\"\n",
    "        model = smf.ols(formula=model_str, data=df_train)\n",
    "        res = model.fit_regularized(method=\"elastic_net\", L1_wt=0)\n",
    "        d_response_2_model_no_food[response] = res\n",
    "        \n",
    "# linear models warp\n",
    "d_response_2_model_warp = {}\n",
    "for response in day_plus_one:\n",
    "    features = df_dag_train_warp[response]\n",
    "    significant_features = features[features > 0]\n",
    "    if significant_features.sum() > 0:\n",
    "        model_str = \"Q('\" + response + \"')\" + \" ~ \" + \" + \".join([\"Q('\" + _ + \"')\"  if _ not in s_binary else \"C(Q('\" + _ + \"'))\" for _ in significant_features.index]) + \" + 1\"\n",
    "        model = smf.ols(formula=model_str, data=df_train_warp)\n",
    "        res = model.fit_regularized(method=\"elastic_net\", L1_wt=0)\n",
    "        d_response_2_model_warp[response] = res\n",
    "        \n",
    "# linear_models no food\n",
    "d_response_2_model_no_food_warp = {}\n",
    "for response in day_plus_one:\n",
    "    features = df_dag_train_warp[response]\n",
    "    significant_features = features[features > 0]\n",
    "    significant_features = significant_features[[(not (\"nutrient\" in _) or (\"food\" in _)) for _ in significant_features.index]]\n",
    "    if significant_features.sum() > 0:\n",
    "        model_str = \"Q('\" + response + \"')\" + \" ~ \" + \" + \".join([\"Q('\" + _ + \"')\"  if _ not in s_binary else \"C(Q('\" + _ + \"'))\" for _ in significant_features.index]) + \" + 1\"\n",
    "        model = smf.ols(formula=model_str, data=df_train_warp)\n",
    "        res = model.fit_regularized(method=\"elastic_net\", L1_wt=0)\n",
    "        d_response_2_model_no_food_warp[response] = res"
   ]
  },
  {
   "cell_type": "code",
   "execution_count": 23,
   "metadata": {},
   "outputs": [],
   "source": [
    "# df_test_users = df_test.groupby(\"UserName\").first()\n",
    "d_results = {}\n",
    "for response in day_plus_one:\n",
    "    if response in d_response_2_model:\n",
    "        d_results[response] = d_response_2_model[response].predict(df_test)\n",
    "    else:\n",
    "        d_results[response] = df_test[response.replace(\"day_plus_one.\", \"\")]\n",
    "    \n",
    "df_results = pd.DataFrame(d_results)\n",
    "\n",
    "# mse = (df_test[df_results.columns] - df_results).apply(lambda x: np.median(np.power(x, 2)), axis=0).median()\n",
    "mse = (df_test[df_results.columns] - df_results).values.flatten()\n",
    "\n",
    "\n",
    "# no food\n",
    "d_results_no_food = {}\n",
    "for response in day_plus_one:\n",
    "    if response in d_response_2_model_no_food:\n",
    "        d_results_no_food[response] = d_response_2_model_no_food[response].predict(df_test)\n",
    "    else:\n",
    "        d_results_no_food[response] = df_test[response.replace(\"day_plus_one.\", \"\")]\n",
    "    \n",
    "df_results_no_food = pd.DataFrame(d_results_no_food)\n",
    "\n",
    "# mse_no_food = (df_test[df_results_no_food.columns] - df_results_no_food).apply(lambda x: np.median(np.power(x, 2)), axis=0).median()\n",
    "mse_no_food = (df_test[df_results_no_food.columns] - df_results_no_food).values.flatten()\n",
    "\n",
    "\n",
    "# warp\n",
    "d_results_warp = {}\n",
    "for response in day_plus_one:\n",
    "    if response in d_response_2_model_warp:\n",
    "        d_results_warp[response] = d_response_2_model_warp[response].predict(df_test)\n",
    "    else:\n",
    "        d_results_warp[response] = df_test[response.replace(\"day_plus_one.\", \"\")]\n",
    "    \n",
    "df_results_warp = pd.DataFrame(d_results_warp)\n",
    "\n",
    "# mse_warp = (df_test[df_results_warp.columns] - df_results_warp).apply(lambda x: np.median(np.power(x, 2)), axis=0).median()\n",
    "mse_warp = (df_test[df_results_warp.columns] - df_results_warp).values.flatten()\n",
    "\n",
    "# no food warp\n",
    "d_results_warp_no_food = {}\n",
    "for response in day_plus_one:\n",
    "    if response in d_response_2_model_no_food_warp:\n",
    "        d_results_warp_no_food[response] = d_response_2_model_no_food_warp[response].predict(df_test)\n",
    "    else:\n",
    "        d_results_warp_no_food[response] = df_test[response.replace(\"day_plus_one.\", \"\")]\n",
    "    \n",
    "df_results_warp_no_food = pd.DataFrame(d_results_warp_no_food)\n",
    "\n",
    "# mse_warp_no_food = (df_test[df_results_no_food.columns] - df_results_warp_no_food).apply(lambda x: np.median(np.power(x, 2)), axis=0).median()\n",
    "mse_warp_no_food = (df_test[df_results_warp_no_food.columns] - df_results_warp_no_food).values.flatten()\n",
    "\n",
    "# baseline\n",
    "d_results_baseline = {}\n",
    "for response in day_plus_one:\n",
    "    d_results_baseline[response] = df_test[response.replace(\"day_plus_one.\", \"\")]\n",
    "    \n",
    "df_results_baseline = pd.DataFrame(d_results_baseline)\n",
    "\n",
    "# mse_baseline = (df_test[df_results.columns] - df_results_baseline).apply(lambda x: np.median(np.power(x, 2)), axis=0).median()\n",
    "mse_baseline = (df_test[df_results_baseline.columns] - df_results_baseline).values.flatten()"
   ]
  },
  {
   "cell_type": "code",
   "execution_count": 25,
   "metadata": {},
   "outputs": [],
   "source": [
    "df_results = pd.DataFrame([mse, mse_warp, mse_baseline, mse_warp_no_food, mse_no_food], index=[\"mse\", \"mse_warp\", \"mse_baseline\", \"mse_warp_no_food\", \"mse_no_food\"]).T\n",
    "\n",
    "df_results_tall = df_results.melt(value_vars=[\"mse\", \"mse_warp\", \"mse_baseline\", \"mse_warp_no_food\", \"mse_no_food\"])"
   ]
  },
  {
   "cell_type": "code",
   "execution_count": 27,
   "metadata": {},
   "outputs": [
    {
     "name": "stderr",
     "output_type": "stream",
     "text": [
      "/home/bhillmann/.conda/envs/type_1/lib/python3.8/site-packages/ipykernel/ipkernel.py:287: DeprecationWarning: `should_run_async` will not call `transform_cell` automatically in the future. Please pass the result to `transformed_cell` argument and any exception that happen during thetransform in `preprocessing_exc_tuple` in IPython 7.17 and above.\n",
      "  and should_run_async(code)\n"
     ]
    },
    {
     "data": {
      "text/plain": [
       "mse                 17.683030\n",
       "mse_warp            17.963964\n",
       "mse_baseline        21.232593\n",
       "mse_warp_no_food    17.963964\n",
       "mse_no_food         17.683030\n",
       "dtype: float64"
      ]
     },
     "execution_count": 27,
     "metadata": {},
     "output_type": "execute_result"
    }
   ],
   "source": [
    "df_results.max()"
   ]
  },
  {
   "cell_type": "code",
   "execution_count": 30,
   "metadata": {},
   "outputs": [
    {
     "data": {
      "text/plain": [
       "mse                -0.006008\n",
       "mse_warp           -0.053224\n",
       "mse_baseline       -0.021047\n",
       "mse_warp_no_food   -0.052033\n",
       "mse_no_food        -0.006008\n",
       "dtype: float64"
      ]
     },
     "execution_count": 30,
     "metadata": {},
     "output_type": "execute_result"
    }
   ],
   "source": [
    "df_results.median(axis=0)"
   ]
  },
  {
   "cell_type": "code",
   "execution_count": 31,
   "metadata": {},
   "outputs": [
    {
     "data": {
      "text/plain": [
       "mse                -1.225069e-02\n",
       "mse_warp           -6.355632e-02\n",
       "mse_baseline       -2.038581e-17\n",
       "mse_warp_no_food   -5.313736e-02\n",
       "mse_no_food        -8.832947e-03\n",
       "dtype: float64"
      ]
     },
     "execution_count": 31,
     "metadata": {},
     "output_type": "execute_result"
    }
   ],
   "source": [
    "df_results.mean(axis=0)"
   ]
  },
  {
   "cell_type": "code",
   "execution_count": null,
   "metadata": {},
   "outputs": [],
   "source": []
  },
  {
   "cell_type": "code",
   "execution_count": 14,
   "metadata": {},
   "outputs": [
    {
     "data": {
      "image/png": "[encoded data removed]",
      "text/plain": [
       "<Figure size 432x288 with 1 Axes>"
      ]
     },
     "metadata": {
      "needs_background": "light"
     },
     "output_type": "display_data"
    }
   ],
   "source": [
    "ax = sns.violinplot(x=\"variable\", y=\"value\", data=df_results_tall, palette=\"muted\")"
   ]
  },
  {
   "cell_type": "code",
   "execution_count": null,
   "metadata": {},
   "outputs": [],
   "source": [
    "# print(mse, mse_warp, mse_baseline, mse_warp_no_food, mse_no_food)"
   ]
  },
  {
   "cell_type": "code",
   "execution_count": null,
   "metadata": {},
   "outputs": [],
   "source": [
    "df_train.shape"
   ]
  },
  {
   "cell_type": "code",
   "execution_count": null,
   "metadata": {},
   "outputs": [],
   "source": [
    "res.predict(df_test)"
   ]
  },
  {
   "cell_type": "code",
   "execution_count": null,
   "metadata": {},
   "outputs": [],
   "source": [
    "res.summary()"
   ]
  }
 ],
 "metadata": {
  "kernelspec": {
   "display_name": "Python [conda env:.conda-type_1]",
   "language": "python",
   "name": "conda-env-.conda-type_1-py"
  },
  "language_info": {
   "codemirror_mode": {
    "name": "ipython",
    "version": 3
   },
   "file_extension": ".py",
   "mimetype": "text/x-python",
   "name": "python",
   "nbconvert_exporter": "python",
   "pygments_lexer": "ipython3",
   "version": "3.8.10"
  }
 },
 "nbformat": 4,
 "nbformat_minor": 4
}
