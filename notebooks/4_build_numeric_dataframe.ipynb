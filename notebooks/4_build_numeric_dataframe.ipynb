{
 "cells": [
  {
   "cell_type": "code",
   "execution_count": 1,
   "metadata": {},
   "outputs": [
    {
     "name": "stdout",
     "output_type": "stream",
     "text": [
      "numpy   1.19.5\n",
      "seaborn 0.11.1\n",
      "pandas  1.1.4\n",
      "\n"
     ]
    }
   ],
   "source": [
    "import numpy as np\n",
    "import matplotlib.pyplot as plt\n",
    "import pandas as pd\n",
    "import warnings\n",
    "import seaborn as sns\n",
    "\n",
    "from scipy.stats import pearsonr\n",
    "\n",
    "sns.set_style(\"darkgrid\")\n",
    "np.random.seed(930525)\n",
    "pd.set_option('display.max_columns', 20)\n",
    "pd.set_option('display.max_rows', 200)\n",
    "\n",
    "warnings.simplefilter('once')\n",
    "\n",
    "%matplotlib inline\n",
    "%load_ext watermark\n",
    "%watermark --iversions"
   ]
  },
  {
   "cell_type": "code",
   "execution_count": 2,
   "metadata": {},
   "outputs": [
    {
     "name": "stderr",
     "output_type": "stream",
     "text": [
      "/home/bhillmann/.conda/envs/type_1/lib/python3.8/site-packages/ipykernel/ipkernel.py:287: DeprecationWarning: `should_run_async` will not call `transform_cell` automatically in the future. Please pass the result to `transformed_cell` argument and any exception that happen during thetransform in `preprocessing_exc_tuple` in IPython 7.17 and above.\n",
      "  and should_run_async(code)\n"
     ]
    }
   ],
   "source": [
    "train = pd.read_csv(\"../data/train.txt\", sep=\"\\t\", index_col=0)\n",
    "train_warp = pd.read_csv(\"../data/train.warp.txt\", sep=\"\\t\", index_col=0)"
   ]
  },
  {
   "cell_type": "code",
   "execution_count": 3,
   "metadata": {},
   "outputs": [
    {
     "data": {
      "text/plain": [
       "(361, 231)"
      ]
     },
     "execution_count": 3,
     "metadata": {},
     "output_type": "execute_result"
    }
   ],
   "source": [
    "train.shape"
   ]
  },
  {
   "cell_type": "code",
   "execution_count": 4,
   "metadata": {},
   "outputs": [
    {
     "data": {
      "text/plain": [
       "(357, 231)"
      ]
     },
     "execution_count": 4,
     "metadata": {},
     "output_type": "execute_result"
    }
   ],
   "source": [
    "train_warp.shape"
   ]
  },
  {
   "cell_type": "code",
   "execution_count": 5,
   "metadata": {},
   "outputs": [],
   "source": [
    "# filter out columns that are correlated\n",
    "s_cols = set([\"tax\", \"food\", \"kegg\", \"nutrients\"])\n",
    "s_cols_response = set([\"day_plus_one\"])\n",
    "s_cont_cols = set([\"Age\", \"Weight\", \"Height\", \"BMI\", \"oilGrams.assigned\", \"Activity.Factor\", \"StudyDayNo\"])\n",
    "df_numeric = train[[col for col in train.columns if col.split(\".\")[0] in s_cols or col in s_cont_cols]]\n",
    "df_response = train[[col for col in train.columns if col.split(\".\")[0] in s_cols_response]]\n",
    "df_binary = train[[col for col in train.columns if (col.split(\".\")[0] not in s_cols.union(s_cols_response) and col not in s_cont_cols) and col != \"Timing\"]]"
   ]
  },
  {
   "cell_type": "code",
   "execution_count": 6,
   "metadata": {},
   "outputs": [],
   "source": [
    "df_binary.to_csv(\"../data/prediction.train.binary.txt\", sep=\"\\t\")\n",
    "df_response.to_csv(\"../data/prediction.train.response.txt\", sep=\"\\t\")\n",
    "df_numeric.to_csv(\"../data/prediction.train.numeric.txt\", sep=\"\\t\")"
   ]
  },
  {
   "cell_type": "code",
   "execution_count": 7,
   "metadata": {},
   "outputs": [],
   "source": [
    "# filter out columns that are correlated\n",
    "s_cols = set([\"tax\", \"food\", \"kegg\", \"nutrients\"])\n",
    "s_cols_response = set([\"day_plus_one\"])\n",
    "s_cont_cols = set([\"Age\", \"Weight\", \"Height\", \"BMI\", \"oilGrams.assigned\", \"Activity.Factor\", \"StudyDayNo\"])\n",
    "df_numeric_warp = train_warp[[col for col in train_warp.columns if col.split(\".\")[0] in s_cols or col in s_cont_cols]]\n",
    "df_response_warp = train_warp[[col for col in train_warp.columns if col.split(\".\")[0] in s_cols_response]]\n",
    "df_binary_warp = train_warp[[col for col in train_warp.columns if (col.split(\".\")[0] not in s_cols.union(s_cols_response) and col not in s_cont_cols) and col != \"Timing\"]]"
   ]
  },
  {
   "cell_type": "code",
   "execution_count": 8,
   "metadata": {},
   "outputs": [],
   "source": [
    "df_binary_warp.to_csv(\"../data/prediction.train.binary.warp.txt\", sep=\"\\t\")\n",
    "df_response_warp.to_csv(\"../data/prediction.train.response.warp.txt\", sep=\"\\t\")\n",
    "df_numeric_warp.to_csv(\"../data/prediction.train.numeric.warp.txt\", sep=\"\\t\")"
   ]
  },
  {
   "cell_type": "code",
   "execution_count": 9,
   "metadata": {},
   "outputs": [
    {
     "data": {
      "text/html": [
       "<div>\n",
       "<style scoped>\n",
       "    .dataframe tbody tr th:only-of-type {\n",
       "        vertical-align: middle;\n",
       "    }\n",
       "\n",
       "    .dataframe tbody tr th {\n",
       "        vertical-align: top;\n",
       "    }\n",
       "\n",
       "    .dataframe thead th {\n",
       "        text-align: right;\n",
       "    }\n",
       "</style>\n",
       "<table border=\"1\" class=\"dataframe\">\n",
       "  <thead>\n",
       "    <tr style=\"text-align: right;\">\n",
       "      <th></th>\n",
       "      <th>Gender</th>\n",
       "      <th>Supplement</th>\n",
       "    </tr>\n",
       "  </thead>\n",
       "  <tbody>\n",
       "    <tr>\n",
       "      <th>2</th>\n",
       "      <td>F</td>\n",
       "      <td>EVOO</td>\n",
       "    </tr>\n",
       "    <tr>\n",
       "      <th>3</th>\n",
       "      <td>F</td>\n",
       "      <td>EVOO</td>\n",
       "    </tr>\n",
       "    <tr>\n",
       "      <th>4</th>\n",
       "      <td>F</td>\n",
       "      <td>EVOO</td>\n",
       "    </tr>\n",
       "    <tr>\n",
       "      <th>5</th>\n",
       "      <td>F</td>\n",
       "      <td>EVOO</td>\n",
       "    </tr>\n",
       "    <tr>\n",
       "      <th>6</th>\n",
       "      <td>F</td>\n",
       "      <td>EVOO</td>\n",
       "    </tr>\n",
       "    <tr>\n",
       "      <th>...</th>\n",
       "      <td>...</td>\n",
       "      <td>...</td>\n",
       "    </tr>\n",
       "    <tr>\n",
       "      <th>589</th>\n",
       "      <td>M</td>\n",
       "      <td>MCT</td>\n",
       "    </tr>\n",
       "    <tr>\n",
       "      <th>590</th>\n",
       "      <td>M</td>\n",
       "      <td>MCT</td>\n",
       "    </tr>\n",
       "    <tr>\n",
       "      <th>591</th>\n",
       "      <td>M</td>\n",
       "      <td>MCT</td>\n",
       "    </tr>\n",
       "    <tr>\n",
       "      <th>592</th>\n",
       "      <td>M</td>\n",
       "      <td>MCT</td>\n",
       "    </tr>\n",
       "    <tr>\n",
       "      <th>593</th>\n",
       "      <td>M</td>\n",
       "      <td>MCT</td>\n",
       "    </tr>\n",
       "  </tbody>\n",
       "</table>\n",
       "<p>357 rows × 2 columns</p>\n",
       "</div>"
      ],
      "text/plain": [
       "    Gender Supplement\n",
       "2        F       EVOO\n",
       "3        F       EVOO\n",
       "4        F       EVOO\n",
       "5        F       EVOO\n",
       "6        F       EVOO\n",
       "..     ...        ...\n",
       "589      M        MCT\n",
       "590      M        MCT\n",
       "591      M        MCT\n",
       "592      M        MCT\n",
       "593      M        MCT\n",
       "\n",
       "[357 rows x 2 columns]"
      ]
     },
     "execution_count": 9,
     "metadata": {},
     "output_type": "execute_result"
    }
   ],
   "source": [
    "df_binary_warp"
   ]
  },
  {
   "cell_type": "code",
   "execution_count": 10,
   "metadata": {},
   "outputs": [
    {
     "name": "stderr",
     "output_type": "stream",
     "text": [
      "/home/bhillmann/.conda/envs/type_1/lib/python3.8/site-packages/ipykernel/ipkernel.py:287: DeprecationWarning: `should_run_async` will not call `transform_cell` automatically in the future. Please pass the result to `transformed_cell` argument and any exception that happen during thetransform in `preprocessing_exc_tuple` in IPython 7.17 and above.\n",
      "  and should_run_async(code)\n"
     ]
    },
    {
     "data": {
      "text/plain": [
       "[]"
      ]
     },
     "execution_count": 10,
     "metadata": {},
     "output_type": "execute_result"
    }
   ],
   "source": [
    "[_ for _ in df_response_warp.columns if \"other\" in _]"
   ]
  }
 ],
 "metadata": {
  "kernelspec": {
   "display_name": "Python [conda env:.conda-type_1]",
   "language": "python",
   "name": "conda-env-.conda-type_1-py"
  },
  "language_info": {
   "codemirror_mode": {
    "name": "ipython",
    "version": 3
   },
   "file_extension": ".py",
   "mimetype": "text/x-python",
   "name": "python",
   "nbconvert_exporter": "python",
   "pygments_lexer": "ipython3",
   "version": "3.8.10"
  }
 },
 "nbformat": 4,
 "nbformat_minor": 4
}
