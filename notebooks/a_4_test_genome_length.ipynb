{
 "cells": [
  {
   "cell_type": "code",
   "execution_count": 1,
   "metadata": {},
   "outputs": [
    {
     "name": "stdout",
     "output_type": "stream",
     "text": [
      "seaborn 0.11.1\n",
      "numpy   1.19.5\n",
      "pandas  1.1.4\n",
      "\n"
     ]
    }
   ],
   "source": [
    "import numpy as np\n",
    "import matplotlib.pyplot as plt\n",
    "import pandas as pd\n",
    "import warnings\n",
    "import seaborn as sns\n",
    "\n",
    "from scipy.stats import pearsonr\n",
    "\n",
    "sns.set_style(\"darkgrid\")\n",
    "np.random.seed(930525)\n",
    "pd.set_option('display.max_columns', 20)\n",
    "pd.set_option('display.max_rows', 200)\n",
    "\n",
    "warnings.simplefilter('once')\n",
    "\n",
    "%matplotlib inline\n",
    "%load_ext watermark\n",
    "%watermark --iversions"
   ]
  },
  {
   "cell_type": "code",
   "execution_count": 2,
   "metadata": {},
   "outputs": [
    {
     "name": "stderr",
     "output_type": "stream",
     "text": [
      "/home/bhillmann/.conda/envs/type_1/lib/python3.8/site-packages/ipykernel/ipkernel.py:287: DeprecationWarning: `should_run_async` will not call `transform_cell` automatically in the future. Please pass the result to `transformed_cell` argument and any exception that happen during thetransform in `preprocessing_exc_tuple` in IPython 7.17 and above.\n",
      "  and should_run_async(code)\n",
      "/home/bhillmann/.conda/envs/type_1/lib/python3.8/site-packages/skbio/sequence/_sequence.py:28: DeprecationWarning: Using or importing the ABCs from 'collections' instead of from 'collections.abc' is deprecated since Python 3.3, and in 3.10 it will stop working\n",
      "  collections.Sequence, SkbioObject):\n",
      "/home/bhillmann/.conda/envs/type_1/lib/python3.8/site-packages/skbio/io/format/gff3.py:217: DeprecationWarning: Using or importing the ABCs from 'collections' instead of from 'collections.abc' is deprecated since Python 3.3, and in 3.10 it will stop working\n",
      "  from collections import Iterable\n"
     ]
    }
   ],
   "source": [
    "from skbio.stats.composition import clr, clr_inv\n",
    "\n",
    "from multiplicative_replacement import multiplicative_replacement"
   ]
  },
  {
   "cell_type": "code",
   "execution_count": 3,
   "metadata": {},
   "outputs": [
    {
     "name": "stderr",
     "output_type": "stream",
     "text": [
      "/home/bhillmann/.conda/envs/type_1/lib/python3.8/site-packages/ipykernel/ipkernel.py:287: DeprecationWarning: `should_run_async` will not call `transform_cell` automatically in the future. Please pass the result to `transformed_cell` argument and any exception that happen during thetransform in `preprocessing_exc_tuple` in IPython 7.17 and above.\n",
      "  and should_run_async(code)\n"
     ]
    }
   ],
   "source": [
    "import csv\n",
    "\n",
    "def get_taxamap(inf_path) -> dict:\n",
    "    taxa_map = dict()\n",
    "    with open(inf_path) as inf:\n",
    "        csv_reader = csv.reader(inf, delimiter=\"\\t\")\n",
    "        for row in csv_reader:\n",
    "            taxa_map[row[0]] = row[1]\n",
    "    return taxa_map"
   ]
  },
  {
   "cell_type": "code",
   "execution_count": 4,
   "metadata": {},
   "outputs": [],
   "source": [
    "taxamap = get_taxamap(\"/mnt/btrfs/data/shogun/gtdb_95/r95.gtdb.tax\")\n",
    "reverse_taxamap = dict(zip(taxamap.values(), taxamap.keys()))"
   ]
  },
  {
   "cell_type": "code",
   "execution_count": 5,
   "metadata": {},
   "outputs": [],
   "source": [
    "df_no_gcf = pd.read_csv(\"../data/no_gcf_otu_taxatable/species.gtdb98.normalized.txt\", sep=\"\\t\")\n",
    "\n",
    "df_no_gcf[\"#OTU ID\"] = df_no_gcf[\"#OTU ID\"].map(reverse_taxamap)\n",
    "df_no_gcf = df_no_gcf.rename({\"#OTU ID\": \"#OTU ID\"}, axis=1)\n",
    "\n",
    "df_no_gcf.set_index(\"#OTU ID\", inplace=True)\n",
    "# df_no_gcf_clr = pd.DataFrame(np.transpose(clr(multiplicative_replacement(df_no_gcf.T.values))), index=df_no_gcf.index, columns=df_no_gcf.columns)"
   ]
  },
  {
   "cell_type": "code",
   "execution_count": null,
   "metadata": {},
   "outputs": [],
   "source": []
  },
  {
   "cell_type": "code",
   "execution_count": 6,
   "metadata": {},
   "outputs": [],
   "source": [
    "df_no_gcf = df_no_gcf.apply(lambda x: x / x.sum(), axis=0)"
   ]
  },
  {
   "cell_type": "code",
   "execution_count": 7,
   "metadata": {},
   "outputs": [],
   "source": [
    "df_gcf = pd.read_csv(\"../data/otu_taxatable/species.gtdb98.normalized.txt\", sep=\"\\t\")\n",
    "\n",
    "df_gcf[\"#OTU ID\"] = df_gcf[\"#OTU ID\"].map(reverse_taxamap)\n",
    "df_gcf = df_gcf.rename({\"#OTU ID\": \"#OTU ID\"}, axis=1)\n",
    "\n",
    "df_gcf.set_index(\"#OTU ID\", inplace=True)\n",
    "# df_gcf_clr = pd.DataFrame(np.transpose(clr(multiplicative_replacement(df_gcf.T.values))), index=df_gcf.index, columns=df_gcf.columns)"
   ]
  },
  {
   "cell_type": "code",
   "execution_count": 8,
   "metadata": {},
   "outputs": [],
   "source": [
    "df_gcf = df_gcf.apply(lambda x: x / x.sum(), axis=0)"
   ]
  },
  {
   "cell_type": "code",
   "execution_count": 9,
   "metadata": {},
   "outputs": [],
   "source": [
    "df_tax_splines = pd.read_csv(\"../results/tax_clr_splines.csv\", index_col=0)"
   ]
  },
  {
   "cell_type": "code",
   "execution_count": 10,
   "metadata": {},
   "outputs": [
    {
     "name": "stderr",
     "output_type": "stream",
     "text": [
      "/home/bhillmann/.conda/envs/type_1/lib/python3.8/site-packages/IPython/core/interactiveshell.py:3165: DtypeWarning: Columns (54,67,68,72,79,80,81,84,87,88,89,90,92,93) have mixed types.Specify dtype option on import or set low_memory=False.\n",
      "  has_raised = await self.run_ast_nodes(code_ast.body, cell_name,\n"
     ]
    }
   ],
   "source": [
    "df_features = pd.read_csv(\"/mnt/btrfs/data/shogun/gtdb_95_type_1/db_features.fixed.extra.csv\", index_col=0)"
   ]
  },
  {
   "cell_type": "code",
   "execution_count": 11,
   "metadata": {},
   "outputs": [],
   "source": [
    "df_gcf_clr_merged = pd.merge(df_no_gcf - df_gcf, df_features[[\"assembly_accession\", \"ungapped_genome_length\"]], left_on=\"#OTU ID\", right_on=\"assembly_accession\", how=\"left\")"
   ]
  },
  {
   "cell_type": "code",
   "execution_count": 12,
   "metadata": {},
   "outputs": [],
   "source": [
    "# df_gcf_clr_merged[\"ungapped_genome_length\"] = clr(df_gcf_clr_merged[\"ungapped_genome_length\"])"
   ]
  },
  {
   "cell_type": "code",
   "execution_count": 13,
   "metadata": {},
   "outputs": [],
   "source": [
    "ids = [col for col in df_gcf_clr_merged.columns if col.startswith(\"MCT\")]"
   ]
  },
  {
   "cell_type": "code",
   "execution_count": 14,
   "metadata": {},
   "outputs": [],
   "source": [
    "df_tall_gcf_clr_merged = pd.melt(df_gcf_clr_merged, id_vars=[\"ungapped_genome_length\"], value_vars=ids)"
   ]
  },
  {
   "cell_type": "code",
   "execution_count": 15,
   "metadata": {},
   "outputs": [
    {
     "name": "stderr",
     "output_type": "stream",
     "text": [
      "/home/bhillmann/.conda/envs/type_1/lib/python3.8/site-packages/patsy/constraint.py:13: DeprecationWarning: Using or importing the ABCs from 'collections' instead of from 'collections.abc' is deprecated since Python 3.3, and in 3.10 it will stop working\n",
      "  from collections import Mapping\n"
     ]
    }
   ],
   "source": [
    "from statsmodels.formula.api import ols\n",
    "import statsmodels.api as sm"
   ]
  },
  {
   "cell_type": "code",
   "execution_count": 16,
   "metadata": {},
   "outputs": [
    {
     "name": "stderr",
     "output_type": "stream",
     "text": [
      "/home/bhillmann/.conda/envs/type_1/lib/python3.8/site-packages/ipykernel/ipkernel.py:287: DeprecationWarning: `should_run_async` will not call `transform_cell` automatically in the future. Please pass the result to `transformed_cell` argument and any exception that happen during thetransform in `preprocessing_exc_tuple` in IPython 7.17 and above.\n",
      "  and should_run_async(code)\n"
     ]
    }
   ],
   "source": [
    "prestige_model = ols(\"value ~ ungapped_genome_length\", data=df_tall_gcf_clr_merged).fit()"
   ]
  },
  {
   "cell_type": "code",
   "execution_count": 17,
   "metadata": {},
   "outputs": [
    {
     "name": "stdout",
     "output_type": "stream",
     "text": [
      "                            OLS Regression Results                            \n",
      "==============================================================================\n",
      "Dep. Variable:                  value   R-squared:                       0.036\n",
      "Model:                            OLS   Adj. R-squared:                  0.036\n",
      "Method:                 Least Squares   F-statistic:                     7557.\n",
      "Date:                Thu, 06 Jan 2022   Prob (F-statistic):               0.00\n",
      "Time:                        20:21:17   Log-Likelihood:             8.8695e+05\n",
      "No. Observations:              201994   AIC:                        -1.774e+06\n",
      "Df Residuals:                  201992   BIC:                        -1.774e+06\n",
      "Df Model:                           1                                         \n",
      "Covariance Type:            nonrobust                                         \n",
      "==========================================================================================\n",
      "                             coef    std err          t      P>|t|      [0.025      0.975]\n",
      "------------------------------------------------------------------------------------------\n",
      "Intercept                 -0.0015   1.83e-05    -80.915      0.000      -0.002      -0.001\n",
      "ungapped_genome_length  4.829e-10   5.56e-12     86.930      0.000    4.72e-10    4.94e-10\n",
      "==============================================================================\n",
      "Omnibus:                   132001.285   Durbin-Watson:                   1.941\n",
      "Prob(Omnibus):                  0.000   Jarque-Bera (JB):        619083483.881\n",
      "Skew:                          -1.420   Prob(JB):                         0.00\n",
      "Kurtosis:                     274.198   Cond. No.                     9.00e+06\n",
      "==============================================================================\n",
      "\n",
      "Notes:\n",
      "[1] Standard Errors assume that the covariance matrix of the errors is correctly specified.\n",
      "[2] The condition number is large,  9e+06. This might indicate that there are\n",
      "strong multicollinearity or other numerical problems.\n"
     ]
    }
   ],
   "source": [
    "print(prestige_model.summary())"
   ]
  },
  {
   "cell_type": "code",
   "execution_count": null,
   "metadata": {},
   "outputs": [],
   "source": []
  },
  {
   "cell_type": "code",
   "execution_count": 18,
   "metadata": {},
   "outputs": [
    {
     "name": "stderr",
     "output_type": "stream",
     "text": [
      "/home/bhillmann/.conda/envs/type_1/lib/python3.8/site-packages/ipykernel/ipkernel.py:287: DeprecationWarning: `should_run_async` will not call `transform_cell` automatically in the future. Please pass the result to `transformed_cell` argument and any exception that happen during thetransform in `preprocessing_exc_tuple` in IPython 7.17 and above.\n",
      "  and should_run_async(code)\n"
     ]
    },
    {
     "data": {
      "image/png": "[encoded data removed]",
      "text/plain": [
       "<Figure size 432x288 with 1 Axes>"
      ]
     },
     "metadata": {
      "needs_background": "light"
     },
     "output_type": "display_data"
    }
   ],
   "source": [
    "fig = sm.graphics.plot_ccpr(prestige_model, \"ungapped_genome_length\")\n",
    "fig.tight_layout(pad=1.0)"
   ]
  }
 ],
 "metadata": {
  "kernelspec": {
   "display_name": "Python [conda env:.conda-type_1]",
   "language": "python",
   "name": "conda-env-.conda-type_1-py"
  },
  "language_info": {
   "codemirror_mode": {
    "name": "ipython",
    "version": 3
   },
   "file_extension": ".py",
   "mimetype": "text/x-python",
   "name": "python",
   "nbconvert_exporter": "python",
   "pygments_lexer": "ipython3",
   "version": "3.8.10"
  }
 },
 "nbformat": 4,
 "nbformat_minor": 4
}
