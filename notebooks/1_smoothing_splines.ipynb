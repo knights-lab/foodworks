{
 "cells": [
  {
   "cell_type": "code",
   "execution_count": 1,
   "metadata": {},
   "outputs": [
    {
     "name": "stdout",
     "output_type": "stream",
     "text": [
      "matplotlib: 3.4.2\n",
      "numpy     : 1.21.0\n",
      "seaborn   : 0.11.1\n",
      "pandas    : 1.3.0\n",
      "\n"
     ]
    }
   ],
   "source": [
    "import numpy as np\n",
    "import matplotlib.pyplot as plt\n",
    "import pandas as pd\n",
    "import warnings\n",
    "import seaborn as sns\n",
    "\n",
    "from scipy.stats import pearsonr\n",
    "\n",
    "sns.set_style(\"darkgrid\")\n",
    "np.random.seed(930525)\n",
    "pd.set_option('display.max_columns', 20)\n",
    "pd.set_option('display.max_rows', 200)\n",
    "\n",
    "warnings.simplefilter('once')\n",
    "\n",
    "%matplotlib inline\n",
    "%load_ext watermark\n",
    "%watermark --iversions"
   ]
  },
  {
   "cell_type": "code",
   "execution_count": 2,
   "metadata": {},
   "outputs": [],
   "source": [
    "from scipy import interpolate\n",
    "\n",
    "# https://github.com/DaniRuizPerez/PALM-Public-Respository/blob/master/Alignment/getAlignmentsIBD_Taxa.py\n",
    "\n",
    "#Use B-spline to extrapolate values. NOTE: Parameters s must be adjusted appropriately to avoid over-fitting.\n",
    "# tck = interpolate.splrep(timepoints, relativeAbundances, k=3, s=0.001, xb=weekFirstSample, xe=weekLastSample)"
   ]
  },
  {
   "cell_type": "code",
   "execution_count": 3,
   "metadata": {},
   "outputs": [],
   "source": [
    "SAMPLING_RATE = 1.0"
   ]
  },
  {
   "cell_type": "code",
   "execution_count": 4,
   "metadata": {},
   "outputs": [],
   "source": [
    "df_mapping = pd.read_csv(\"../data/SampleID_map.txt\", sep='\\t', index_col=0)"
   ]
  },
  {
   "cell_type": "code",
   "execution_count": 5,
   "metadata": {},
   "outputs": [],
   "source": [
    "# df_mapping"
   ]
  },
  {
   "cell_type": "code",
   "execution_count": 6,
   "metadata": {},
   "outputs": [],
   "source": [
    "df_tax = pd.read_csv(\"../data/taxonomy_clr_s_top.txt\", sep='\\t', index_col=0)"
   ]
  },
  {
   "cell_type": "code",
   "execution_count": 7,
   "metadata": {},
   "outputs": [],
   "source": [
    "df_tax_long = pd.melt(df_tax.reset_index(), id_vars=[\"#taxonomy\"], value_vars=df_tax.columns, var_name=\"#SampleID\")\n",
    "\n",
    "df_tax_long = df_tax_long.rename({\"#taxonomy\": \"feature\"}, axis=1)"
   ]
  },
  {
   "cell_type": "code",
   "execution_count": 8,
   "metadata": {},
   "outputs": [],
   "source": [
    "df_tax_metadata_long = pd.merge(df_tax_long, df_mapping.reset_index()[[\"#SampleID\", \"StudyDayNo\", \"UserName\"]], on=\"#SampleID\", how=\"left\")"
   ]
  },
  {
   "cell_type": "code",
   "execution_count": 9,
   "metadata": {},
   "outputs": [],
   "source": [
    "df_tax_metadata_long = df_tax_metadata_long.sort_values([\"UserName\", \"feature\", \"StudyDayNo\"])"
   ]
  },
  {
   "cell_type": "code",
   "execution_count": 10,
   "metadata": {},
   "outputs": [],
   "source": [
    "max_study_day_no = df_tax_metadata_long[\"StudyDayNo\"].max()\n",
    "min_study_day_no = df_tax_metadata_long[\"StudyDayNo\"].min()\n",
    "\n",
    "index_splines = np.arange(min_study_day_no, max_study_day_no, SAMPLING_RATE, dtype=\"int\")\n",
    "\n",
    "# for group, df in df_tax_metadata_long.groupby([\"UserName\", \"#taxonomy\"]):\n",
    "#     break"
   ]
  },
  {
   "cell_type": "code",
   "execution_count": 11,
   "metadata": {},
   "outputs": [],
   "source": [
    "def yield_df_spline(username, taxonomy, df, index_splines, sampling_rate):\n",
    "    \n",
    "    timepoints = df[\"StudyDayNo\"].values\n",
    "    values = df[\"value\"].values\n",
    "#     print(\"hi\")\n",
    "    max_subj_study_day_no = df[\"StudyDayNo\"].max()\n",
    "    min_subj_study_day_no = df[\"StudyDayNo\"].min()\n",
    "    \n",
    "    sd_subj_value = df[\"value\"].std()\n",
    "\n",
    "    max_subj_value = df[\"value\"].max() + 2*sd_subj_value\n",
    "    min_subj_value = df[\"value\"].min() - 2*sd_subj_value\n",
    "    \n",
    "    spline = interpolate.splrep(timepoints, values, k=3, xb=min_subj_study_day_no, xe=max_subj_study_day_no)\n",
    "\n",
    "    spline_timepoints = np.arange(min_subj_study_day_no, max_subj_study_day_no + 1, sampling_rate, dtype='int')\n",
    "    spline_values = interpolate.splev(spline_timepoints, spline)\n",
    "\n",
    "    df_out = df.copy().set_index(\"StudyDayNo\").reindex(index_splines)\n",
    "\n",
    "    df_out['spline'] = pd.Series(spline_values, index=spline_timepoints)\n",
    "    df_out['spline'] = df_out['spline'].ffill().bfill()\n",
    "\n",
    "    df_out['spline'] = np.clip(df_out['spline'], min_subj_value, max_subj_value)\n",
    "\n",
    "    df_out[\"UserName\"] = username\n",
    "    df_out[\"feature\"] = taxonomy\n",
    "#     print(\"hi\")\n",
    "    return df_out, spline, username, taxonomy, min_subj_value, max_subj_value"
   ]
  },
  {
   "cell_type": "code",
   "execution_count": 12,
   "metadata": {},
   "outputs": [],
   "source": [
    "import multiprocessing\n",
    "pool = multiprocessing.Pool(8)\n",
    "results = pool.starmap(yield_df_spline, [(username, taxonomy, df, index_splines, SAMPLING_RATE) for (username, taxonomy), df in df_tax_metadata_long.groupby([\"UserName\", \"feature\"])])"
   ]
  },
  {
   "cell_type": "code",
   "execution_count": 13,
   "metadata": {},
   "outputs": [],
   "source": [
    "df_tax_splines = pd.concat([_[0] for _ in results])"
   ]
  },
  {
   "cell_type": "code",
   "execution_count": 14,
   "metadata": {},
   "outputs": [],
   "source": [
    "from collections import defaultdict\n",
    "\n",
    "d_splines = defaultdict(dict)\n",
    "for (df, spline, username, taxonomy, c_min, c_max) in results:\n",
    "    d_splines[username][taxonomy] = spline, c_min, c_max"
   ]
  },
  {
   "cell_type": "code",
   "execution_count": 15,
   "metadata": {},
   "outputs": [],
   "source": [
    "df_tax_splines.to_csv(\"../results/tax_clr_splines.csv\")"
   ]
  },
  {
   "cell_type": "code",
   "execution_count": 16,
   "metadata": {},
   "outputs": [],
   "source": [
    "import pickle\n",
    "with open(\"../results/d_splines.pkl\", \"wb\") as outf:\n",
    "    pickle.dump(d_splines, outf)"
   ]
  },
  {
   "cell_type": "code",
   "execution_count": 17,
   "metadata": {},
   "outputs": [],
   "source": [
    "# now do kegg splines\n",
    "df_kegg = pd.read_csv(\"../data/kegg_clr.txt\", sep='\\t', index_col=0)\n",
    "\n",
    "df_kegg_long = pd.melt(df_kegg.reset_index(), id_vars=[\"#kegg\"], value_vars=df_kegg.columns, var_name=\"#SampleID\")\n",
    "\n",
    "df_kegg_long = df_kegg_long.rename({\"#kegg\": \"feature\"}, axis=1)"
   ]
  },
  {
   "cell_type": "code",
   "execution_count": 18,
   "metadata": {},
   "outputs": [],
   "source": [
    "df_kegg_metadata_long = pd.merge(df_kegg_long, df_mapping.reset_index()[[\"#SampleID\", \"StudyDayNo\", \"UserName\"]], on=\"#SampleID\", how=\"left\")"
   ]
  },
  {
   "cell_type": "code",
   "execution_count": 19,
   "metadata": {},
   "outputs": [],
   "source": [
    "df_kegg_metadata_long = df_kegg_metadata_long.sort_values([\"UserName\", \"feature\", \"StudyDayNo\"])"
   ]
  },
  {
   "cell_type": "code",
   "execution_count": 20,
   "metadata": {},
   "outputs": [],
   "source": [
    "results = pool.starmap(yield_df_spline, [(username, taxonomy, df, index_splines, SAMPLING_RATE) for (username, taxonomy), df in df_kegg_metadata_long.groupby([\"UserName\", \"feature\"])])"
   ]
  },
  {
   "cell_type": "code",
   "execution_count": 21,
   "metadata": {},
   "outputs": [],
   "source": [
    "df_kegg_splines = pd.concat([_[0] for _ in results])"
   ]
  },
  {
   "cell_type": "code",
   "execution_count": 22,
   "metadata": {},
   "outputs": [],
   "source": [
    "d_splines = defaultdict(dict)\n",
    "for (df, spline, username, taxonomy, c_min, c_max) in results:\n",
    "    d_splines[username][taxonomy] = spline, c_min, c_max"
   ]
  },
  {
   "cell_type": "code",
   "execution_count": 23,
   "metadata": {},
   "outputs": [],
   "source": [
    "df_kegg_splines.to_csv(\"../results/kegg_clr_splines.csv\")"
   ]
  },
  {
   "cell_type": "code",
   "execution_count": 24,
   "metadata": {},
   "outputs": [],
   "source": [
    "with open(\"../results/d_kegg_splines.pkl\", \"wb\") as outf:\n",
    "    pickle.dump(d_splines, outf)"
   ]
  },
  {
   "cell_type": "code",
   "execution_count": 25,
   "metadata": {},
   "outputs": [],
   "source": [
    "# now do food splines\n",
    "df_food = pd.read_csv(\"../data/food_clr_L3.txt\", sep='\\t', index_col=0)\n",
    "\n",
    "df_food_long = pd.melt(df_food.reset_index(), id_vars=[\"#taxonomy\"], value_vars=df_food.columns, var_name=\"#SampleID\")\n",
    "\n",
    "df_food_long = df_food_long.rename({\"#taxonomy\": \"feature\"}, axis=1)"
   ]
  },
  {
   "cell_type": "code",
   "execution_count": 26,
   "metadata": {},
   "outputs": [],
   "source": [
    "df_food_metadata_long = pd.merge(df_food_long, df_mapping.reset_index()[[\"#SampleID\", \"StudyDayNo\", \"UserName\"]], on=\"#SampleID\", how=\"left\")"
   ]
  },
  {
   "cell_type": "code",
   "execution_count": 27,
   "metadata": {},
   "outputs": [],
   "source": [
    "df_food_metadata_long = df_food_metadata_long.sort_values([\"UserName\", \"feature\", \"StudyDayNo\"])"
   ]
  },
  {
   "cell_type": "code",
   "execution_count": 28,
   "metadata": {},
   "outputs": [],
   "source": [
    "results = pool.starmap(yield_df_spline, [(username, taxonomy, df, index_splines, SAMPLING_RATE) for (username, taxonomy), df in df_food_metadata_long.groupby([\"UserName\", \"feature\"])])"
   ]
  },
  {
   "cell_type": "code",
   "execution_count": 29,
   "metadata": {},
   "outputs": [],
   "source": [
    "df_food_splines = pd.concat([_[0] for _ in results])"
   ]
  },
  {
   "cell_type": "code",
   "execution_count": 30,
   "metadata": {},
   "outputs": [],
   "source": [
    "d_splines = defaultdict(dict)\n",
    "for (df, spline, username, taxonomy, c_min, c_max) in results:\n",
    "    d_splines[username][taxonomy] = spline, c_min, c_max"
   ]
  },
  {
   "cell_type": "code",
   "execution_count": 31,
   "metadata": {},
   "outputs": [],
   "source": [
    "df_food_splines.to_csv(\"../results/food_L3_clr_splines.csv\")"
   ]
  },
  {
   "cell_type": "code",
   "execution_count": 32,
   "metadata": {},
   "outputs": [],
   "source": [
    "with open(\"../results/d_food_splines.pkl\", \"wb\") as outf:\n",
    "    pickle.dump(d_splines, outf)"
   ]
  },
  {
   "cell_type": "code",
   "execution_count": 33,
   "metadata": {},
   "outputs": [],
   "source": [
    "# now do nutrition splines\n",
    "df_nutrients = pd.read_csv(\"../data/nutrients_top.txt\", sep='\\t', index_col=0)\n",
    "\n",
    "df_nutrients_long = pd.melt(df_food.reset_index(), id_vars=[\"#taxonomy\"], value_vars=df_food.columns, var_name=\"#SampleID\")\n",
    "\n",
    "df_nutrients_long = df_nutrients_long.rename({\"#taxonomy\": \"feature\"}, axis=1)"
   ]
  },
  {
   "cell_type": "code",
   "execution_count": 34,
   "metadata": {},
   "outputs": [],
   "source": [
    "df_nutrients_metadata_long = pd.merge(df_nutrients_long, df_mapping.reset_index()[[\"#SampleID\", \"StudyDayNo\", \"UserName\"]], on=\"#SampleID\", how=\"left\")"
   ]
  },
  {
   "cell_type": "code",
   "execution_count": 35,
   "metadata": {},
   "outputs": [],
   "source": [
    "df_nutrients_metadata_long = df_nutrients_metadata_long.sort_values([\"UserName\", \"feature\", \"StudyDayNo\"])"
   ]
  },
  {
   "cell_type": "code",
   "execution_count": 36,
   "metadata": {},
   "outputs": [],
   "source": [
    "results = pool.starmap(yield_df_spline, [(username, taxonomy, df, index_splines, SAMPLING_RATE) for (username, taxonomy), df in df_nutrients_metadata_long.groupby([\"UserName\", \"feature\"])])"
   ]
  },
  {
   "cell_type": "code",
   "execution_count": 37,
   "metadata": {},
   "outputs": [],
   "source": [
    "df_nutrients_splines = pd.concat([_[0] for _ in results])"
   ]
  },
  {
   "cell_type": "code",
   "execution_count": 38,
   "metadata": {},
   "outputs": [],
   "source": [
    "d_splines = defaultdict(dict)\n",
    "for (df, spline, username, taxonomy, c_min, c_max) in results:\n",
    "    d_splines[username][taxonomy] = spline, c_min, c_max"
   ]
  },
  {
   "cell_type": "code",
   "execution_count": 39,
   "metadata": {},
   "outputs": [],
   "source": [
    "df_nutrients_splines.to_csv(\"../results/nutrients_splines.csv\")"
   ]
  },
  {
   "cell_type": "code",
   "execution_count": 40,
   "metadata": {},
   "outputs": [],
   "source": [
    "with open(\"../results/d_nutrient_splines.pkl\", \"wb\") as outf:\n",
    "    pickle.dump(d_splines, outf)"
   ]
  }
 ],
 "metadata": {
  "kernelspec": {
   "display_name": "Python [conda env:.conda-foodworks]",
   "language": "python",
   "name": "conda-env-.conda-foodworks-py"
  },
  "language_info": {
   "codemirror_mode": {
    "name": "ipython",
    "version": 3
   },
   "file_extension": ".py",
   "mimetype": "text/x-python",
   "name": "python",
   "nbconvert_exporter": "python",
   "pygments_lexer": "ipython3",
   "version": "3.9.5"
  }
 },
 "nbformat": 4,
 "nbformat_minor": 4
}
