{
 "cells": [
  {
   "cell_type": "code",
   "execution_count": 1,
   "metadata": {},
   "outputs": [
    {
     "name": "stdout",
     "output_type": "stream",
     "text": [
      "pandas    : 1.3.0\n",
      "matplotlib: 3.4.2\n",
      "numpy     : 1.21.0\n",
      "seaborn   : 0.11.1\n",
      "\n"
     ]
    }
   ],
   "source": [
    "import numpy as np\n",
    "import matplotlib.pyplot as plt\n",
    "import pandas as pd\n",
    "import warnings\n",
    "import seaborn as sns\n",
    "\n",
    "from scipy.stats import pearsonr\n",
    "\n",
    "sns.set_style(\"darkgrid\")\n",
    "np.random.seed(930525)\n",
    "pd.set_option('display.max_columns', 20)\n",
    "pd.set_option('display.max_rows', 200)\n",
    "\n",
    "warnings.simplefilter('once')\n",
    "\n",
    "%matplotlib inline\n",
    "%load_ext watermark\n",
    "%watermark --iversions"
   ]
  },
  {
   "cell_type": "code",
   "execution_count": 2,
   "metadata": {},
   "outputs": [
    {
     "name": "stderr",
     "output_type": "stream",
     "text": [
      "/home/bhillmann/.conda/envs/foodworks/lib/python3.9/site-packages/skbio/sequence/_sequence.py:28: DeprecationWarning: Using or importing the ABCs from 'collections' instead of from 'collections.abc' is deprecated since Python 3.3, and in 3.10 it will stop working\n",
      "  collections.Sequence, SkbioObject):\n",
      "/home/bhillmann/.conda/envs/foodworks/lib/python3.9/site-packages/skbio/io/format/gff3.py:217: DeprecationWarning: Using or importing the ABCs from 'collections' instead of from 'collections.abc' is deprecated since Python 3.3, and in 3.10 it will stop working\n",
      "  from collections import Iterable\n"
     ]
    }
   ],
   "source": [
    "from skbio.stats.composition import clr, clr_inv\n",
    "\n",
    "from multiplicative_replacement import multiplicative_replacement"
   ]
  },
  {
   "cell_type": "code",
   "execution_count": 3,
   "metadata": {},
   "outputs": [],
   "source": [
    "# df_tax = pd.read_csv(\"../data/taxonomy_clr_s.txt\", sep='\\t', index_col=0)\n",
    "df_tax = pd.read_csv(\"../data/otu_taxatable/species.gtdb98.normalized.txt\", sep=\"\\t\", index_col=0)\n",
    "df_tax.columns = [\".\".join(_.split(\".\")[:3])for _ in df_tax.columns]"
   ]
  },
  {
   "cell_type": "code",
   "execution_count": 4,
   "metadata": {},
   "outputs": [],
   "source": [
    "# nutrients\n",
    "df_nutrients = pd.read_csv(\"../data/nutr_65.txt\", sep=\"\\t\", index_col=0)"
   ]
  },
  {
   "cell_type": "code",
   "execution_count": 5,
   "metadata": {},
   "outputs": [],
   "source": [
    "# food totals\n",
    "df_dhydrt = pd.read_csv(\"../data/diet.dhydrt.txt\", sep=\"\\t\", index_col=0)\n",
    "\n",
    "df_dhydrt.reset_index(drop=True)\n",
    "\n",
    "df_dhydrt.index = df_dhydrt[\"taxonomy\"]"
   ]
  },
  {
   "cell_type": "code",
   "execution_count": 6,
   "metadata": {},
   "outputs": [],
   "source": [
    "# kegg modules\n",
    "df_kegg = pd.read_csv(\"../data/otu_taxatable/species.gtdb98.kegg.txt\", sep=\"\\t\", index_col=0)\n",
    "\n",
    "df_kegg.columns = [\".\".join(col.split('.')[:3]) for col in df_kegg]"
   ]
  },
  {
   "cell_type": "code",
   "execution_count": 7,
   "metadata": {},
   "outputs": [],
   "source": [
    "df_mapping = pd.read_csv(\"../data/SampleID_map.txt\", sep='\\t', index_col=0)"
   ]
  },
  {
   "cell_type": "code",
   "execution_count": 8,
   "metadata": {},
   "outputs": [],
   "source": [
    "soylent_ids = {\"MCTs11\", \"MCTs12\"}\n",
    "soylent_mask = [_ not in soylent_ids for _ in df_mapping['UserName']]\n",
    "df_mapping = df_mapping.loc[soylent_mask, :].copy()"
   ]
  },
  {
   "cell_type": "code",
   "execution_count": 9,
   "metadata": {},
   "outputs": [],
   "source": [
    "# dropping soylent samples\n",
    "col_mask = [col in set(df_mapping.index) for col in df_tax.columns]\n",
    "df_tax = df_tax.loc[:, col_mask].copy()"
   ]
  },
  {
   "cell_type": "code",
   "execution_count": 10,
   "metadata": {},
   "outputs": [],
   "source": [
    "col_mask = [col in set(df_tax.columns) for col in df_nutrients.columns]\n",
    "df_nutrients = df_nutrients.loc[:, col_mask].copy()\n",
    "\n",
    "col_mask = [col in set(df_tax.columns) for col in df_dhydrt.columns]\n",
    "df_dhydrt = df_dhydrt.loc[:, col_mask].copy()\n",
    "\n",
    "col_mask = [col in set(df_tax.columns) for col in df_kegg.columns]\n",
    "df_kegg = df_kegg.loc[:, col_mask].copy()"
   ]
  },
  {
   "cell_type": "code",
   "execution_count": 11,
   "metadata": {},
   "outputs": [],
   "source": [
    "# from skbio.stats.composition import closure\n",
    "\n",
    "# # rarify counts\n",
    "# median_depth = df_tax.sum(axis=0).median()\n",
    "# df_tax_counts_rarefied = df_tax.copy()\n",
    "\n",
    "# for column in df_tax.columns:\n",
    "#     counts = np.random.choice(df_tax.shape[0], p=closure(df_tax[column].values), size=int(median_depth))\n",
    "#     col = np.bincount(counts, minlength=df_tax.shape[0])\n",
    "#     df_tax_counts_rarefied[column] = col"
   ]
  },
  {
   "cell_type": "code",
   "execution_count": 12,
   "metadata": {},
   "outputs": [],
   "source": [
    "species = [tax for tax in df_tax.index if \"NA\" not in tax]\n",
    "\n",
    "df_tax_species = df_tax.loc[species, :].copy()"
   ]
  },
  {
   "cell_type": "code",
   "execution_count": 13,
   "metadata": {},
   "outputs": [],
   "source": [
    "def subset_top_variance(df, ratio=.8, max_n=50):\n",
    "    for n in range(1, max_n):\n",
    "#         top_n = (df.mean(axis=1).abs() / df.std(axis=1)).sort_values(ascending=False)[:n]\n",
    "        top_n = (df.std(axis=1)).sort_values(ascending=False)[:n]\n",
    "        df_tn = df.loc[top_n.index, :].copy()\n",
    "        other = df.loc[[_ not in top_n.index for _ in df.index], :].sum(axis=0)\n",
    "        \n",
    "        if df_tn.sum(axis=0).sum() / (df_tn.sum(axis=0).sum() + other.sum()) > ratio:\n",
    "           break \n",
    "\n",
    "    other.name = \"other\"\n",
    "\n",
    "    df_tn = df_tn.append(other)\n",
    "\n",
    "    return df_tn"
   ]
  },
  {
   "cell_type": "code",
   "execution_count": 14,
   "metadata": {},
   "outputs": [],
   "source": [
    "from sklearn.feature_selection import VarianceThreshold\n",
    "\n",
    "def filter_variance(df, vt=.8 * (1 - .8)):\n",
    "    sel = VarianceThreshold(threshold=(vt))\n",
    "    fit = sel.fit(df.T)\n",
    "    return df.T.loc[:, fit.variances_ > vt].T.copy()"
   ]
  },
  {
   "cell_type": "code",
   "execution_count": 15,
   "metadata": {},
   "outputs": [],
   "source": [
    "df_tax_species = filter_variance(df_tax_species)\n",
    "\n",
    "df_tax_top_species = subset_top_variance(df_tax_species)"
   ]
  },
  {
   "cell_type": "code",
   "execution_count": 16,
   "metadata": {},
   "outputs": [],
   "source": [
    "df_tax_species.reset_index().rename({\"#OTU ID\": \"#taxonomy\"}, axis=1).to_csv(\"../data/taxonomy_s.GTDB98.txt\", sep=\"\\t\", index=False)"
   ]
  },
  {
   "cell_type": "code",
   "execution_count": 17,
   "metadata": {},
   "outputs": [],
   "source": [
    "df_tax_clr_species = pd.DataFrame(np.transpose(clr(multiplicative_replacement(df_tax_species.T.values))), index=df_tax_species.index, columns=df_tax_species.columns)"
   ]
  },
  {
   "cell_type": "code",
   "execution_count": 18,
   "metadata": {},
   "outputs": [],
   "source": [
    "df_tax_clr_species.reset_index().rename({\"#OTU ID\": \"#taxonomy\"}, axis=1).to_csv(\"../data/taxonomy_clr_s.GTDB98.txt\", sep=\"\\t\", index=False)"
   ]
  },
  {
   "cell_type": "code",
   "execution_count": 19,
   "metadata": {},
   "outputs": [],
   "source": [
    "df_mapping = pd.read_csv(\"../data/SampleID_map.txt\", sep='\\t', index_col=0)"
   ]
  },
  {
   "cell_type": "code",
   "execution_count": 20,
   "metadata": {},
   "outputs": [],
   "source": [
    "df_tax_species = df_tax_species.T.reset_index()\n",
    "df_tax_species = df_tax_species.rename({\"index\": \"#SampleID\"}, axis=1)"
   ]
  },
  {
   "cell_type": "code",
   "execution_count": 21,
   "metadata": {},
   "outputs": [],
   "source": [
    "df_tax_species_users = pd.merge(df_tax_species, df_mapping.reset_index()[[\"#SampleID\", \"UserName\"]], on=\"#SampleID\", how=\"left\")\n",
    "df_tax_species_users.groupby(\"UserName\").mean().T.reset_index().rename({\"index\": \"#taxonomy\"}, axis=1).to_csv(\"../data/UN_tax_mean_norm_s.GTDB98.txt\", index=False, sep=\"\\t\")"
   ]
  },
  {
   "cell_type": "code",
   "execution_count": 22,
   "metadata": {},
   "outputs": [],
   "source": [
    "df_tax_clr_species = df_tax_clr_species.T.reset_index()\n",
    "df_tax_clr_species = df_tax_clr_species.rename({\"index\": \"#SampleID\"}, axis=1)"
   ]
  },
  {
   "cell_type": "code",
   "execution_count": 23,
   "metadata": {},
   "outputs": [],
   "source": [
    "df_tax_clr_species_users = pd.merge(df_tax_clr_species, df_mapping.reset_index()[[\"#SampleID\", \"UserName\"]], on=\"#SampleID\", how=\"left\")\n",
    "df_tax_clr_species_users.groupby(\"UserName\").mean().T.reset_index().rename({\"index\": \"#taxonomy\"}, axis=1).to_csv(\"../data/UN_tax_CLR_mean_norm_s.GTDB98.txt\", index=False, sep=\"\\t\")"
   ]
  },
  {
   "cell_type": "code",
   "execution_count": 24,
   "metadata": {},
   "outputs": [],
   "source": [
    "df_tax_top_species_clr = pd.DataFrame(np.transpose(clr(multiplicative_replacement(df_tax_top_species.T.values))), index=df_tax_top_species.index, columns=df_tax_top_species.columns)"
   ]
  },
  {
   "cell_type": "code",
   "execution_count": 25,
   "metadata": {},
   "outputs": [],
   "source": [
    "# df_tax_t20_species.index.name = \"#taxonomy\"\n",
    "# df_tax_t20_species_clr.index.name = \"#taxonomy\""
   ]
  },
  {
   "cell_type": "code",
   "execution_count": 26,
   "metadata": {},
   "outputs": [],
   "source": [
    "df_tax_top_species.to_csv(\"../data/taxonomy_counts_s_top.txt\", sep=\"\\t\", index_label=\"#taxonomy\")\n",
    "df_tax_top_species_clr.to_csv(\"../data/taxonomy_clr_s_top.txt\", sep=\"\\t\", index_label=\"#taxonomy\")"
   ]
  },
  {
   "cell_type": "code",
   "execution_count": 27,
   "metadata": {},
   "outputs": [],
   "source": [
    "# np.isfinite(clr_inv(df_tax_t20_species_clr.T))"
   ]
  },
  {
   "cell_type": "code",
   "execution_count": 28,
   "metadata": {},
   "outputs": [],
   "source": [
    "df_nutrients_filtered = filter_variance(df_nutrients)"
   ]
  },
  {
   "cell_type": "code",
   "execution_count": 29,
   "metadata": {},
   "outputs": [],
   "source": [
    "df_nutrients_filtered.to_csv(\"../data/nutrients_top.txt\", sep=\"\\t\", index_label=\"#taxonomy\")"
   ]
  },
  {
   "cell_type": "code",
   "execution_count": 30,
   "metadata": {},
   "outputs": [],
   "source": [
    "# subset df_dhydrt to different levels\n",
    "\n",
    "for i, level in zip(range(1, 6), (\"L1\", \"L2\", \"L3\", \"L4\", \"L5\")):\n",
    "    df_lvl = df_dhydrt.copy()\n",
    "    df_lvl[\"level\"] = [\";\".join(tax.split(\";\")[:i]) for tax in df_dhydrt.index]\n",
    "    df_lvl.groupby(\"level\").sum()\n",
    "    df_grouped = df_lvl.groupby(\"level\").sum()\n",
    "    df_grouped = filter_variance(df_grouped)\n",
    "    df_grouped = subset_top_variance(df_grouped)\n",
    "    df_grouped = pd.DataFrame(np.transpose(clr(multiplicative_replacement(df_grouped.T.values))), index=df_grouped.index, columns=df_grouped.columns)\n",
    "    df_grouped.to_csv(f\"../data/food_clr_{level}.txt\", sep=\"\\t\", index_label=\"#taxonomy\")    "
   ]
  },
  {
   "cell_type": "code",
   "execution_count": 31,
   "metadata": {},
   "outputs": [],
   "source": [
    "# kegg modules\n",
    "df_kegg = filter_variance(df_kegg)\n",
    "\n",
    "df_kegg = subset_top_variance(df_kegg)\n",
    "\n",
    "df_kegg_ud = df_kegg.loc[:,~df_kegg.columns.duplicated()]\n",
    "\n",
    "df_kegg_ud_clr = pd.DataFrame(np.transpose(clr(multiplicative_replacement(df_kegg_ud.T.values))), index=df_kegg.index, columns=df_kegg.columns)\n",
    "\n",
    "df_kegg_ud.to_csv(f\"../data/kegg.txt\", sep=\"\\t\", index_label=\"#kegg\")    \n",
    "df_kegg_ud_clr.to_csv(f\"../data/kegg_clr.txt\", sep=\"\\t\", index_label=\"#kegg\")"
   ]
  }
 ],
 "metadata": {
  "kernelspec": {
   "display_name": "Python [conda env:.conda-foodworks]",
   "language": "python",
   "name": "conda-env-.conda-foodworks-py"
  },
  "language_info": {
   "codemirror_mode": {
    "name": "ipython",
    "version": 3
   },
   "file_extension": ".py",
   "mimetype": "text/x-python",
   "name": "python",
   "nbconvert_exporter": "python",
   "pygments_lexer": "ipython3",
   "version": "3.9.5"
  }
 },
 "nbformat": 4,
 "nbformat_minor": 4
}
