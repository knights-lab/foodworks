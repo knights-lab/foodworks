{
 "cells": [
  {
   "cell_type": "code",
   "execution_count": 1,
   "metadata": {},
   "outputs": [
    {
     "name": "stdout",
     "output_type": "stream",
     "text": [
      "numpy     : 1.21.0\n",
      "seaborn   : 0.11.1\n",
      "pandas    : 1.3.0\n",
      "matplotlib: 3.4.2\n",
      "\n"
     ]
    }
   ],
   "source": [
    "import numpy as np\n",
    "import matplotlib.pyplot as plt\n",
    "import pandas as pd\n",
    "import warnings\n",
    "import seaborn as sns\n",
    "\n",
    "from scipy.stats import pearsonr\n",
    "\n",
    "sns.set_style(\"darkgrid\")\n",
    "np.random.seed(930525)\n",
    "pd.set_option('display.max_columns', 20)\n",
    "pd.set_option('display.max_rows', 200)\n",
    "\n",
    "warnings.simplefilter('once')\n",
    "\n",
    "%matplotlib inline\n",
    "%load_ext watermark\n",
    "%watermark --iversions"
   ]
  },
  {
   "cell_type": "code",
   "execution_count": 2,
   "metadata": {},
   "outputs": [],
   "source": [
    "from scipy import interpolate\n",
    "\n",
    "# https://github.com/DaniRuizPerez/PALM-Public-Respository/blob/master/Alignment/getAlignmentsIBD_Taxa.py\n",
    "\n",
    "#Use B-spline to extrapolate values. NOTE: Parameters s must be adjusted appropriately to avoid over-fitting.\n",
    "# tck = interpolate.splrep(timepoints, relativeAbundances, k=3, s=0.001, xb=weekFirstSample, xe=weekLastSample)"
   ]
  },
  {
   "cell_type": "code",
   "execution_count": 3,
   "metadata": {},
   "outputs": [],
   "source": [
    "df_tax_splines = pd.read_csv(\"../results/tax_clr_splines.csv\", index_col=0)"
   ]
  },
  {
   "cell_type": "code",
   "execution_count": 4,
   "metadata": {},
   "outputs": [],
   "source": [
    "# PARAMETERS\n",
    "PRESENCE_THRESHOLD = .95\n",
    "SAMPLING_RATE = 1\n",
    "OVERLAP_THRESHOLD = .8\n",
    "\n",
    "max_study_day_no = df_tax_splines.index.max()\n",
    "min_study_day_no = df_tax_splines.index.min()\n",
    "\n",
    "a_values = np.arange(0.01, 3.01, .01)\n",
    "b_values = np.arange(-max_study_day_no, max_study_day_no + .5, .5)\n",
    "\n",
    "index_splines = np.arange(min_study_day_no, max_study_day_no, SAMPLING_RATE, dtype=\"int\")"
   ]
  },
  {
   "cell_type": "code",
   "execution_count": 5,
   "metadata": {},
   "outputs": [],
   "source": [
    "def linear_warp(a, b, s):\n",
    "\treturn (s - b) / a"
   ]
  },
  {
   "cell_type": "code",
   "execution_count": 6,
   "metadata": {},
   "outputs": [],
   "source": [
    "lb_linear_constraint = (index_splines.max() - index_splines.min()) * OVERLAP_THRESHOLD"
   ]
  },
  {
   "cell_type": "code",
   "execution_count": 7,
   "metadata": {},
   "outputs": [],
   "source": [
    "def inv_linear_warp(a, b, s):\n",
    "\treturn (a*s) + b"
   ]
  },
  {
   "cell_type": "code",
   "execution_count": 8,
   "metadata": {},
   "outputs": [],
   "source": [
    "usernames = df_tax_splines[\"UserName\"].unique()"
   ]
  },
  {
   "cell_type": "code",
   "execution_count": 9,
   "metadata": {},
   "outputs": [],
   "source": [
    "df_tax_counts = pd.read_csv(\"../data/taxonomy_counts_s_top.txt\", index_col=0, sep=\"\\t\")\n",
    "df_mapping = pd.read_csv(\"../data/SampleID_map.txt\", sep='\\t', index_col=0)"
   ]
  },
  {
   "cell_type": "code",
   "execution_count": 10,
   "metadata": {},
   "outputs": [],
   "source": [
    "df_tax_counts = df_tax_counts.T\n",
    "\n",
    "df_tax_counts.index.name = \"#SampleID\"\n",
    "\n",
    "df_tax_counts_username = pd.merge(df_tax_counts, df_mapping.reset_index()[[\"#SampleID\", \"UserName\"]], on=\"#SampleID\", how=\"left\")\n",
    "\n",
    "df_tax_counts_username = df_tax_counts_username.set_index(\"#SampleID\")\n",
    "\n",
    "df_username_presence = df_tax_counts_username.groupby(\"UserName\").apply(lambda x: (x > 0).sum() / x.shape[0])"
   ]
  },
  {
   "cell_type": "code",
   "execution_count": 11,
   "metadata": {},
   "outputs": [],
   "source": [
    "import pickle\n",
    "with open(\"../results/d_splines.pkl\", \"rb\") as inf:\n",
    "    d_splines = pickle.load(inf)"
   ]
  },
  {
   "cell_type": "code",
   "execution_count": 12,
   "metadata": {},
   "outputs": [],
   "source": [
    "a = 1.5\n",
    "b = -5\n",
    "\n",
    "# usernames\n",
    "# reference\n",
    "# PRESENCE_THRESHOLD\n",
    "# d_splines\n",
    "\n",
    "def error_a_b_reference(ab, reference, current, presence_threshold, d_splines, overlap_threshold):\n",
    "    a = ab[0]\n",
    "    b = ab[1]\n",
    "    reference_inv_warp = inv_linear_warp(a, b, index_splines)\n",
    "\n",
    "    # alpha is the max(reference_sample, inv_linear_warp(current_sample))\n",
    "    # beta is the min(reference_sample_t, inv_linear_warp(current_sample))\n",
    "    alpha = max(index_splines.min(), reference_inv_warp.min())\n",
    "    beta = min(index_splines.max(), reference_inv_warp.max())\n",
    "\n",
    "    overlap =  (beta - alpha) / (index_splines.max() - index_splines.min())\n",
    "\n",
    "#     if overlap > overlap_threshold and alpha < beta:\n",
    "    error = get_alignment_error(a, b, alpha, beta, index_splines, reference, current, presence_threshold, d_splines)\n",
    "#     else:\n",
    "#         error = get_alignment_error(1, 0, index_splines.min(), index_splines.max(), index_splines, reference, usernames, presence_threshold, d_splines)\n",
    "    return error"
   ]
  },
  {
   "cell_type": "code",
   "execution_count": 13,
   "metadata": {},
   "outputs": [],
   "source": [
    "# def get_alignment_error(a, b, alpha, beta, index_splines, reference, current, presence_threshold, d_splines):\n",
    "#     current_warp = linear_warp(a, b, index_splines)\n",
    "#     reference_taxonomies = set(df_username_presence.loc[reference, df_username_presence.loc[reference, :] > PRESENCE_THRESHOLD].index)\n",
    "\n",
    "#     current_taxonomies = set(df_username_presence.loc[current, df_username_presence.loc[current, :] > PRESENCE_THRESHOLD].index)\n",
    "#     filtered_taxonomies = reference_taxonomies.intersection(current_taxonomies)\n",
    "    \n",
    "#     error_tax = np.repeat(0.0, len(filtered_taxonomies))\n",
    "    \n",
    "#     for ix_tax, taxonomy in enumerate(filtered_taxonomies):\n",
    "#         spline_reference, reference_min, reference_max = d_splines[reference][taxonomy]\n",
    "#         spline_current, current_min, current_max = d_splines[current][taxonomy]\n",
    "#         ts_current = interpolate.splev(index_splines, spline_current)\n",
    "#         ts_current = np.clip(ts_current_warp, current_min, current_max)\n",
    "        \n",
    "#         spline = interpolate.splrep(current_warp, values, k=3, xb=min_subj_study_day_no, xe=max_subj_study_day_no)\n",
    "\n",
    "        \n",
    "#         spline_values = interpolate.splev(spline_timepoints, spline)\n",
    "        \n",
    "\n",
    "#         ts_reference = interpolate.splev(index_splines, spline_reference)\n",
    "#         ts_current_warp = interpolate.splev(current_warp, spline_current)\n",
    "\n",
    "#         ts_reference = np.clip(ts_reference, reference_min, reference_max)\n",
    "#         ts_current_warp = np.clip(ts_current_warp, current_min, current_max)\n",
    "\n",
    "#         cur_error = np.linalg.norm(ts_reference - ts_current_warp)\n",
    "#         cur_error = cur_error / (beta - alpha)\n",
    "#         error_tax[ix_tax] = cur_error\n",
    "#     return np.mean(error_tax)"
   ]
  },
  {
   "cell_type": "code",
   "execution_count": 14,
   "metadata": {},
   "outputs": [],
   "source": [
    "def get_alignment_error(a, b, alpha, beta, index_splines, reference, current, presence_threshold, d_splines):\n",
    "    current_warp = linear_warp(a, b, index_splines)\n",
    "    reference_taxonomies = set(df_username_presence.loc[reference, df_username_presence.loc[reference, :] > PRESENCE_THRESHOLD].index)\n",
    "\n",
    "    current_taxonomies = set(df_username_presence.loc[current, df_username_presence.loc[current, :] > PRESENCE_THRESHOLD].index)\n",
    "    filtered_taxonomies = reference_taxonomies.intersection(current_taxonomies)\n",
    "    \n",
    "    error_tax = np.repeat(0.0, len(filtered_taxonomies))\n",
    "    \n",
    "    for ix_tax, taxonomy in enumerate(filtered_taxonomies):\n",
    "        spline_reference, reference_min, reference_max = d_splines[reference][taxonomy]\n",
    "        spline_current, current_min, current_max = d_splines[current][taxonomy]\n",
    "\n",
    "        ts_reference = interpolate.splev(index_splines, spline_reference)\n",
    "        ts_current_warp = interpolate.splev(current_warp, spline_current)\n",
    "\n",
    "        ts_reference = np.clip(ts_reference, reference_min, reference_max)\n",
    "        ts_current_warp = np.clip(ts_current_warp, current_min, current_max)\n",
    "\n",
    "        cur_error = np.linalg.norm(ts_reference - ts_current_warp)\n",
    "        cur_error = cur_error / (beta - alpha)\n",
    "        error_tax[ix_tax] = cur_error\n",
    "    return np.mean(error_tax)"
   ]
  },
  {
   "cell_type": "code",
   "execution_count": 15,
   "metadata": {},
   "outputs": [],
   "source": [
    "from scipy.optimize import minimize"
   ]
  },
  {
   "cell_type": "code",
   "execution_count": 16,
   "metadata": {},
   "outputs": [],
   "source": [
    "def gen_constraint_overlap(index_splines):\n",
    "    def inner_constraint(ab):\n",
    "        a = ab[0]\n",
    "        b = ab[1]\n",
    "        reference_inv_warp = inv_linear_warp(a, b, index_splines)\n",
    "\n",
    "        # alpha is the max(reference_sample, inv_linear_warp(current_sample))\n",
    "        # beta is the min(reference_sample_t, inv_linear_warp(current_sample))\n",
    "        alpha = max(index_splines.min(), reference_inv_warp.min())\n",
    "        beta = min(index_splines.max(), reference_inv_warp.max())\n",
    "\n",
    "        overlap =  (beta - alpha) / (index_splines.max() - index_splines.min())\n",
    "        return overlap\n",
    "    return inner_constraint\n",
    "    \n",
    "def gen_constraint_greater_than(index_splines):\n",
    "    def inner_constraint(ab):\n",
    "        a = ab[0]\n",
    "        b = ab[1]\n",
    "        reference_inv_warp = inv_linear_warp(a, b, index_splines)\n",
    "#         reference_inv_warp = linear_warp(a, b, index_splines)\n",
    "\n",
    "        # alpha is the max(reference_sample, inv_linear_warp(current_sample))\n",
    "        # beta is the min(reference_sample_t, inv_linear_warp(current_sample))\n",
    "        alpha = max(index_splines.min(), reference_inv_warp.min())\n",
    "        beta = min(index_splines.max(), reference_inv_warp.max())\n",
    "\n",
    "        return beta - alpha\n",
    "    return inner_constraint"
   ]
  },
  {
   "cell_type": "code",
   "execution_count": 17,
   "metadata": {},
   "outputs": [],
   "source": [
    "import itertools"
   ]
  },
  {
   "cell_type": "code",
   "execution_count": 18,
   "metadata": {},
   "outputs": [],
   "source": [
    "bounds = [(0.01, 3), (-15, 15)]\n",
    "\n",
    "from scipy.optimize import NonlinearConstraint, LinearConstraint\n",
    "\n",
    "constraint_overlap = NonlinearConstraint(gen_constraint_overlap(index_splines), lb=OVERLAP_THRESHOLD, ub=np.inf)\n",
    "constraint_gt = NonlinearConstraint(gen_constraint_greater_than(index_splines), lb=0, ub=np.inf)\n",
    "constraint_cobyla_a = LinearConstraint((1,0), lb=0.01, ub=3)\n",
    "constraint_cobyla_b = LinearConstraint((0,1), lb=-15, ub=15)\n",
    "\n",
    "# reference = usernames[0]\n",
    "\n",
    "results = []\n",
    "\n",
    "for (reference, current) in itertools.product(usernames, usernames):\n",
    "    res = minimize(\n",
    "        error_a_b_reference,\n",
    "    #     method=\"COBYLA\",\n",
    "        x0=[1, 0.0],\n",
    "        args=(reference, current, PRESENCE_THRESHOLD, d_splines, OVERLAP_THRESHOLD),\n",
    "        constraints=(constraint_overlap, constraint_gt, constraint_cobyla_a, constraint_cobyla_b),\n",
    "    #     bounds=bounds,\n",
    "    )\n",
    "    if not res.success:\n",
    "            res = minimize(\n",
    "                    error_a_b_reference,\n",
    "                    method=\"COBYLA\",\n",
    "                    x0=[1, 0.0],\n",
    "                    args=(reference, current, PRESENCE_THRESHOLD, d_splines, OVERLAP_THRESHOLD),\n",
    "                    constraints=(constraint_overlap, constraint_gt, constraint_cobyla_a, constraint_cobyla_b),\n",
    "                #     bounds=bounds,\n",
    "            )\n",
    "    results.append((reference, current, res))"
   ]
  },
  {
   "cell_type": "code",
   "execution_count": 19,
   "metadata": {},
   "outputs": [],
   "source": [
    "res = minimize(\n",
    "    error_a_b_reference,\n",
    "    method=\"COBYLA\",\n",
    "    x0=[1, 0.0],\n",
    "    args=(\"MCTs01\", \"MCTs01\", PRESENCE_THRESHOLD, d_splines, OVERLAP_THRESHOLD),\n",
    "    constraints=(constraint_overlap, constraint_gt, constraint_cobyla_a, constraint_cobyla_b),\n",
    "#     bounds=bounds,\n",
    ")"
   ]
  },
  {
   "cell_type": "code",
   "execution_count": 20,
   "metadata": {},
   "outputs": [],
   "source": [
    "mat = []\n",
    "cols = [\"reference\", \"current\", \"error\", \"a\", \"b\"]\n",
    "for result in results:\n",
    "    res = result[2]\n",
    "    mat.append([result[0], result[1], res.fun, res.x[0], res.x[1]])\n",
    "\n",
    "df_alignment_results = pd.DataFrame(mat, columns=cols)"
   ]
  },
  {
   "cell_type": "code",
   "execution_count": 21,
   "metadata": {},
   "outputs": [],
   "source": [
    "df_alignment_error = df_alignment_results.pivot(index=\"reference\", columns=\"current\", values=\"error\").copy()"
   ]
  },
  {
   "cell_type": "code",
   "execution_count": 22,
   "metadata": {},
   "outputs": [
    {
     "name": "stderr",
     "output_type": "stream",
     "text": [
      "/tmp/ipykernel_2594403/4059380397.py:1: FutureWarning: Using a non-tuple sequence for multidimensional indexing is deprecated; use `arr[tuple(seq)]` instead of `arr[seq]`. In the future this will be interpreted as an array index, `arr[np.array(seq)]`, which will result either in an error or a different result.\n",
      "  df_alignment_error.values[[np.arange(df_alignment_error.shape[0])]*2] = 0\n"
     ]
    }
   ],
   "source": [
    "df_alignment_error.values[[np.arange(df_alignment_error.shape[0])]*2] = 0"
   ]
  },
  {
   "cell_type": "code",
   "execution_count": 23,
   "metadata": {},
   "outputs": [],
   "source": [
    "best_aligner = df_alignment_error.mean(axis=1).sort_values().index[0]"
   ]
  },
  {
   "cell_type": "code",
   "execution_count": 24,
   "metadata": {},
   "outputs": [
    {
     "data": {
      "text/plain": [
       "'MCTs07'"
      ]
     },
     "execution_count": 24,
     "metadata": {},
     "output_type": "execute_result"
    }
   ],
   "source": [
    "best_aligner"
   ]
  },
  {
   "cell_type": "code",
   "execution_count": 25,
   "metadata": {},
   "outputs": [
    {
     "data": {
      "text/html": [
       "<div>\n",
       "<style scoped>\n",
       "    .dataframe tbody tr th:only-of-type {\n",
       "        vertical-align: middle;\n",
       "    }\n",
       "\n",
       "    .dataframe tbody tr th {\n",
       "        vertical-align: top;\n",
       "    }\n",
       "\n",
       "    .dataframe thead th {\n",
       "        text-align: right;\n",
       "    }\n",
       "</style>\n",
       "<table border=\"1\" class=\"dataframe\">\n",
       "  <thead>\n",
       "    <tr style=\"text-align: right;\">\n",
       "      <th></th>\n",
       "      <th>reference</th>\n",
       "      <th>current</th>\n",
       "      <th>error</th>\n",
       "      <th>a</th>\n",
       "      <th>b</th>\n",
       "    </tr>\n",
       "  </thead>\n",
       "  <tbody>\n",
       "    <tr>\n",
       "      <th>160</th>\n",
       "      <td>MCTs07</td>\n",
       "      <td>MCTs01</td>\n",
       "      <td>0.325505</td>\n",
       "      <td>1.000000</td>\n",
       "      <td>-5.134722e-09</td>\n",
       "    </tr>\n",
       "    <tr>\n",
       "      <th>161</th>\n",
       "      <td>MCTs07</td>\n",
       "      <td>MCTs03</td>\n",
       "      <td>0.368672</td>\n",
       "      <td>1.000000</td>\n",
       "      <td>-3.295947e-12</td>\n",
       "    </tr>\n",
       "    <tr>\n",
       "      <th>162</th>\n",
       "      <td>MCTs07</td>\n",
       "      <td>MCTs04</td>\n",
       "      <td>0.430172</td>\n",
       "      <td>1.671879</td>\n",
       "      <td>-6.719327e-01</td>\n",
       "    </tr>\n",
       "    <tr>\n",
       "      <th>163</th>\n",
       "      <td>MCTs07</td>\n",
       "      <td>MCTs05</td>\n",
       "      <td>0.632598</td>\n",
       "      <td>1.000000</td>\n",
       "      <td>-7.627105e-12</td>\n",
       "    </tr>\n",
       "    <tr>\n",
       "      <th>164</th>\n",
       "      <td>MCTs07</td>\n",
       "      <td>MCTs06</td>\n",
       "      <td>0.272421</td>\n",
       "      <td>3.000000</td>\n",
       "      <td>-1.368676e+01</td>\n",
       "    </tr>\n",
       "    <tr>\n",
       "      <th>165</th>\n",
       "      <td>MCTs07</td>\n",
       "      <td>MCTs07</td>\n",
       "      <td>0.000160</td>\n",
       "      <td>1.000099</td>\n",
       "      <td>1.116783e-05</td>\n",
       "    </tr>\n",
       "    <tr>\n",
       "      <th>166</th>\n",
       "      <td>MCTs07</td>\n",
       "      <td>MCTs08</td>\n",
       "      <td>0.565270</td>\n",
       "      <td>1.061869</td>\n",
       "      <td>-6.189459e-02</td>\n",
       "    </tr>\n",
       "    <tr>\n",
       "      <th>167</th>\n",
       "      <td>MCTs07</td>\n",
       "      <td>MCTs09</td>\n",
       "      <td>0.268159</td>\n",
       "      <td>1.000000</td>\n",
       "      <td>-2.061625e-08</td>\n",
       "    </tr>\n",
       "    <tr>\n",
       "      <th>168</th>\n",
       "      <td>MCTs07</td>\n",
       "      <td>MCTs10</td>\n",
       "      <td>0.298235</td>\n",
       "      <td>1.000000</td>\n",
       "      <td>-2.286464e-08</td>\n",
       "    </tr>\n",
       "    <tr>\n",
       "      <th>169</th>\n",
       "      <td>MCTs07</td>\n",
       "      <td>MCTs13</td>\n",
       "      <td>0.357914</td>\n",
       "      <td>1.000000</td>\n",
       "      <td>-2.199805e-08</td>\n",
       "    </tr>\n",
       "    <tr>\n",
       "      <th>170</th>\n",
       "      <td>MCTs07</td>\n",
       "      <td>MCTs14</td>\n",
       "      <td>0.402713</td>\n",
       "      <td>0.999999</td>\n",
       "      <td>-1.506928e-07</td>\n",
       "    </tr>\n",
       "    <tr>\n",
       "      <th>171</th>\n",
       "      <td>MCTs07</td>\n",
       "      <td>MCTs15</td>\n",
       "      <td>0.409822</td>\n",
       "      <td>1.000000</td>\n",
       "      <td>-2.473141e-10</td>\n",
       "    </tr>\n",
       "    <tr>\n",
       "      <th>172</th>\n",
       "      <td>MCTs07</td>\n",
       "      <td>MCTs16</td>\n",
       "      <td>0.387223</td>\n",
       "      <td>1.054060</td>\n",
       "      <td>-5.410945e-02</td>\n",
       "    </tr>\n",
       "    <tr>\n",
       "      <th>173</th>\n",
       "      <td>MCTs07</td>\n",
       "      <td>MCTs18</td>\n",
       "      <td>0.560114</td>\n",
       "      <td>2.236105</td>\n",
       "      <td>-1.170750e+01</td>\n",
       "    </tr>\n",
       "    <tr>\n",
       "      <th>174</th>\n",
       "      <td>MCTs07</td>\n",
       "      <td>MCTs19</td>\n",
       "      <td>0.575476</td>\n",
       "      <td>1.000000</td>\n",
       "      <td>-3.130742e-11</td>\n",
       "    </tr>\n",
       "    <tr>\n",
       "      <th>175</th>\n",
       "      <td>MCTs07</td>\n",
       "      <td>MCTs20</td>\n",
       "      <td>0.462121</td>\n",
       "      <td>1.000000</td>\n",
       "      <td>-1.032432e-11</td>\n",
       "    </tr>\n",
       "    <tr>\n",
       "      <th>176</th>\n",
       "      <td>MCTs07</td>\n",
       "      <td>MCTs21</td>\n",
       "      <td>0.387512</td>\n",
       "      <td>1.408902</td>\n",
       "      <td>-7.703307e-01</td>\n",
       "    </tr>\n",
       "    <tr>\n",
       "      <th>177</th>\n",
       "      <td>MCTs07</td>\n",
       "      <td>MCTs22</td>\n",
       "      <td>0.253938</td>\n",
       "      <td>1.156666</td>\n",
       "      <td>-3.063558e-01</td>\n",
       "    </tr>\n",
       "    <tr>\n",
       "      <th>178</th>\n",
       "      <td>MCTs07</td>\n",
       "      <td>MCTs23</td>\n",
       "      <td>0.328761</td>\n",
       "      <td>1.170293</td>\n",
       "      <td>-6.864675e-01</td>\n",
       "    </tr>\n",
       "    <tr>\n",
       "      <th>179</th>\n",
       "      <td>MCTs07</td>\n",
       "      <td>MCTs24</td>\n",
       "      <td>0.488385</td>\n",
       "      <td>1.000000</td>\n",
       "      <td>-4.694189e-11</td>\n",
       "    </tr>\n",
       "    <tr>\n",
       "      <th>180</th>\n",
       "      <td>MCTs07</td>\n",
       "      <td>MCTs25</td>\n",
       "      <td>0.290648</td>\n",
       "      <td>1.000000</td>\n",
       "      <td>-2.592561e-12</td>\n",
       "    </tr>\n",
       "    <tr>\n",
       "      <th>181</th>\n",
       "      <td>MCTs07</td>\n",
       "      <td>MCTs26</td>\n",
       "      <td>0.355645</td>\n",
       "      <td>1.061626</td>\n",
       "      <td>-8.987132e-02</td>\n",
       "    </tr>\n",
       "    <tr>\n",
       "      <th>182</th>\n",
       "      <td>MCTs07</td>\n",
       "      <td>MCTs27</td>\n",
       "      <td>0.305321</td>\n",
       "      <td>1.000000</td>\n",
       "      <td>-1.698315e-08</td>\n",
       "    </tr>\n",
       "    <tr>\n",
       "      <th>183</th>\n",
       "      <td>MCTs07</td>\n",
       "      <td>MCTs28</td>\n",
       "      <td>0.315590</td>\n",
       "      <td>0.999992</td>\n",
       "      <td>-2.931534e-06</td>\n",
       "    </tr>\n",
       "    <tr>\n",
       "      <th>184</th>\n",
       "      <td>MCTs07</td>\n",
       "      <td>MCTs29</td>\n",
       "      <td>0.379371</td>\n",
       "      <td>1.550629</td>\n",
       "      <td>-5.506361e-01</td>\n",
       "    </tr>\n",
       "    <tr>\n",
       "      <th>185</th>\n",
       "      <td>MCTs07</td>\n",
       "      <td>MCTs31</td>\n",
       "      <td>0.359127</td>\n",
       "      <td>1.000000</td>\n",
       "      <td>-2.409404e-10</td>\n",
       "    </tr>\n",
       "    <tr>\n",
       "      <th>186</th>\n",
       "      <td>MCTs07</td>\n",
       "      <td>MCTs32</td>\n",
       "      <td>0.339998</td>\n",
       "      <td>1.000000</td>\n",
       "      <td>-2.879962e-12</td>\n",
       "    </tr>\n",
       "    <tr>\n",
       "      <th>187</th>\n",
       "      <td>MCTs07</td>\n",
       "      <td>MCTs33</td>\n",
       "      <td>0.430533</td>\n",
       "      <td>1.000000</td>\n",
       "      <td>-7.195542e-12</td>\n",
       "    </tr>\n",
       "    <tr>\n",
       "      <th>188</th>\n",
       "      <td>MCTs07</td>\n",
       "      <td>MCTs34</td>\n",
       "      <td>0.372418</td>\n",
       "      <td>1.000000</td>\n",
       "      <td>-3.543600e-12</td>\n",
       "    </tr>\n",
       "    <tr>\n",
       "      <th>189</th>\n",
       "      <td>MCTs07</td>\n",
       "      <td>MCTs35</td>\n",
       "      <td>0.346097</td>\n",
       "      <td>2.015828</td>\n",
       "      <td>-1.303329e+00</td>\n",
       "    </tr>\n",
       "    <tr>\n",
       "      <th>190</th>\n",
       "      <td>MCTs07</td>\n",
       "      <td>MCTs36</td>\n",
       "      <td>0.296065</td>\n",
       "      <td>1.238862</td>\n",
       "      <td>-1.488128e+00</td>\n",
       "    </tr>\n",
       "    <tr>\n",
       "      <th>191</th>\n",
       "      <td>MCTs07</td>\n",
       "      <td>MCTs37</td>\n",
       "      <td>0.435298</td>\n",
       "      <td>1.000000</td>\n",
       "      <td>-2.050658e-08</td>\n",
       "    </tr>\n",
       "  </tbody>\n",
       "</table>\n",
       "</div>"
      ],
      "text/plain": [
       "    reference current     error         a             b\n",
       "160    MCTs07  MCTs01  0.325505  1.000000 -5.134722e-09\n",
       "161    MCTs07  MCTs03  0.368672  1.000000 -3.295947e-12\n",
       "162    MCTs07  MCTs04  0.430172  1.671879 -6.719327e-01\n",
       "163    MCTs07  MCTs05  0.632598  1.000000 -7.627105e-12\n",
       "164    MCTs07  MCTs06  0.272421  3.000000 -1.368676e+01\n",
       "165    MCTs07  MCTs07  0.000160  1.000099  1.116783e-05\n",
       "166    MCTs07  MCTs08  0.565270  1.061869 -6.189459e-02\n",
       "167    MCTs07  MCTs09  0.268159  1.000000 -2.061625e-08\n",
       "168    MCTs07  MCTs10  0.298235  1.000000 -2.286464e-08\n",
       "169    MCTs07  MCTs13  0.357914  1.000000 -2.199805e-08\n",
       "170    MCTs07  MCTs14  0.402713  0.999999 -1.506928e-07\n",
       "171    MCTs07  MCTs15  0.409822  1.000000 -2.473141e-10\n",
       "172    MCTs07  MCTs16  0.387223  1.054060 -5.410945e-02\n",
       "173    MCTs07  MCTs18  0.560114  2.236105 -1.170750e+01\n",
       "174    MCTs07  MCTs19  0.575476  1.000000 -3.130742e-11\n",
       "175    MCTs07  MCTs20  0.462121  1.000000 -1.032432e-11\n",
       "176    MCTs07  MCTs21  0.387512  1.408902 -7.703307e-01\n",
       "177    MCTs07  MCTs22  0.253938  1.156666 -3.063558e-01\n",
       "178    MCTs07  MCTs23  0.328761  1.170293 -6.864675e-01\n",
       "179    MCTs07  MCTs24  0.488385  1.000000 -4.694189e-11\n",
       "180    MCTs07  MCTs25  0.290648  1.000000 -2.592561e-12\n",
       "181    MCTs07  MCTs26  0.355645  1.061626 -8.987132e-02\n",
       "182    MCTs07  MCTs27  0.305321  1.000000 -1.698315e-08\n",
       "183    MCTs07  MCTs28  0.315590  0.999992 -2.931534e-06\n",
       "184    MCTs07  MCTs29  0.379371  1.550629 -5.506361e-01\n",
       "185    MCTs07  MCTs31  0.359127  1.000000 -2.409404e-10\n",
       "186    MCTs07  MCTs32  0.339998  1.000000 -2.879962e-12\n",
       "187    MCTs07  MCTs33  0.430533  1.000000 -7.195542e-12\n",
       "188    MCTs07  MCTs34  0.372418  1.000000 -3.543600e-12\n",
       "189    MCTs07  MCTs35  0.346097  2.015828 -1.303329e+00\n",
       "190    MCTs07  MCTs36  0.296065  1.238862 -1.488128e+00\n",
       "191    MCTs07  MCTs37  0.435298  1.000000 -2.050658e-08"
      ]
     },
     "execution_count": 25,
     "metadata": {},
     "output_type": "execute_result"
    }
   ],
   "source": [
    "df_alignment_results.query(f\"reference == '{best_aligner}'\")"
   ]
  },
  {
   "cell_type": "code",
   "execution_count": 26,
   "metadata": {},
   "outputs": [
    {
     "data": {
      "text/plain": [
       "((array([ 1.,  1.,  1.,  1.,  3.,  4.,  5.,  6.,  7.,  8.,  9., 10., 11.,\n",
       "         12., 13., 14., 15., 17., 17., 17., 17.]),\n",
       "  array([ 0.11546536, -3.36959754,  2.76369352, -1.03152749, -0.94750249,\n",
       "          1.44637399, -1.83584865,  2.21993791, -2.30788091, -0.34357979,\n",
       "          0.21176478,  0.48454893,  0.4571884 , -0.79667789,  4.6935093 ,\n",
       "         -1.08155162,  1.57320832,  0.        ,  0.        ,  0.        ,\n",
       "          0.        ]),\n",
       "  3),\n",
       " -3.0479657016183626,\n",
       " 4.043878248171611)"
      ]
     },
     "execution_count": 26,
     "metadata": {},
     "output_type": "execute_result"
    }
   ],
   "source": [
    "current = \"MCTs36\"\n",
    "reference = best_aligner\n",
    "species = 'k__Bacteria;p__Actinobacteria;c__Actinobacteria;o__Bifidobacteriales;f__Bifidobacteriaceae;g__Bifidobacterium;s__Bifidobacterium longum'\n",
    "\n",
    "d_splines[current]['k__Bacteria;p__Actinobacteria;c__Actinobacteria;o__Bifidobacteriales;f__Bifidobacteriaceae;g__Bifidobacterium;s__Bifidobacterium longum']"
   ]
  },
  {
   "cell_type": "code",
   "execution_count": 27,
   "metadata": {},
   "outputs": [],
   "source": [
    "# sampling_rate = np.arange(warped_time.min(), warped_time.max(), SAMPLING_RATE)"
   ]
  },
  {
   "cell_type": "code",
   "execution_count": 28,
   "metadata": {},
   "outputs": [
    {
     "data": {
      "image/png": "[encoded data removed]",
      "text/plain": [
       "<Figure size 432x288 with 1 Axes>"
      ]
     },
     "metadata": {
      "needs_background": "light"
     },
     "output_type": "display_data"
    }
   ],
   "source": [
    "current = \"MCTs36\"\n",
    "reference = best_aligner\n",
    "taxonomy = 'k__Bacteria;p__Actinobacteria;c__Actinobacteria;o__Bifidobacteriales;f__Bifidobacteriaceae;g__Bifidobacterium;s__Bifidobacterium longum'\n",
    "\n",
    "# for row in df_alignment_results.query(f\"reference == '{best_aligner}'\").iterrrows():\n",
    "\n",
    "row = df_alignment_results.query(f\"reference == '{reference}' & current == '{current}'\")\n",
    "\n",
    "spline_reference, reference_min, reference_max = d_splines[reference][taxonomy]\n",
    "spline_current, current_min, current_max = d_splines[current][taxonomy]\n",
    "\n",
    "index_smooth_current = np.linspace(index_splines.min(), index_splines.max(), 10_000)\n",
    "current_smooth_warp = linear_warp(row['a'].values[0], row['b'].values[0], index_smooth_current)\n",
    "\n",
    "ts_reference_smooth_warp = interpolate.splev(index_smooth_current, spline_reference)\n",
    "ts_current_smooth_warp = interpolate.splev(current_smooth_warp, spline_current)\n",
    "\n",
    "ts_reference_smooth_warp = np.clip(ts_reference_smooth_warp, reference_min, reference_max)\n",
    "ts_current_smooth_warp = np.clip(ts_current_smooth_warp, current_min, current_max)\n",
    "\n",
    "current_warp = linear_warp(row['a'].values[0], row['b'].values[0], index_splines)\n",
    "\n",
    "# index_warp_arange = np.arange(np.ceil(current_warp.min()), np.floor(current_warp.max()), dtype=int)\n",
    "\n",
    "# current_warp = inv_linear_warp(row['a'].values[0], row['b'].values[0], index_splines)\n",
    "\n",
    "ts_reference = interpolate.splev(index_splines, spline_reference)\n",
    "ts_current_warp = interpolate.splev(current_warp, spline_current)\n",
    "\n",
    "ts_reference = np.clip(ts_reference, reference_min, reference_max)\n",
    "ts_current_warp = np.clip(ts_current_warp, current_min, current_max)\n",
    "\n",
    "fig, ax = plt.subplots()\n",
    "\n",
    "plt.plot(index_smooth_current, ts_reference_smooth_warp, color=\"blue\")\n",
    "plt.plot(index_smooth_current, ts_current_smooth_warp, color=\"orange\")\n",
    "\n",
    "plt.plot(index_splines, ts_reference, 'o', color=\"blue\")\n",
    "plt.plot(index_splines, ts_current_warp, 'o', color=\"orange\")\n",
    "\n",
    "# plt.plot(index_splines, reference_max, 'ob')\n",
    "plt.show()"
   ]
  },
  {
   "cell_type": "code",
   "execution_count": 29,
   "metadata": {},
   "outputs": [
    {
     "data": {
      "image/png": "[encoded data removed]",
      "text/plain": [
       "<Figure size 432x288 with 1 Axes>"
      ]
     },
     "metadata": {
      "needs_background": "light"
     },
     "output_type": "display_data"
    }
   ],
   "source": [
    "current = \"MCTs36\"\n",
    "reference = best_aligner\n",
    "taxonomy = 'k__Bacteria;p__Actinobacteria;c__Actinobacteria;o__Bifidobacteriales;f__Bifidobacteriaceae;g__Bifidobacterium;s__Bifidobacterium longum'\n",
    "\n",
    "# for row in df_alignment_results.query(f\"reference == '{best_aligner}'\").iterrrows():\n",
    "\n",
    "row = df_alignment_results.query(f\"reference == '{reference}' & current == '{current}'\")\n",
    "\n",
    "spline_reference, reference_min, reference_max = d_splines[current][taxonomy]\n",
    "spline_current, current_min, current_max = d_splines[current][taxonomy]\n",
    "\n",
    "index_smooth_current = np.linspace(index_splines.min(), index_splines.max(), 10_000)\n",
    "current_smooth_warp = linear_warp(row['a'].values[0], row['b'].values[0], index_smooth_current)\n",
    "\n",
    "ts_reference_smooth_warp = interpolate.splev(index_smooth_current, spline_reference)\n",
    "ts_current_smooth_warp = interpolate.splev(current_smooth_warp, spline_current)\n",
    "\n",
    "ts_reference_smooth_warp = np.clip(ts_reference_smooth_warp, reference_min, reference_max)\n",
    "ts_current_smooth_warp = np.clip(ts_current_smooth_warp, current_min, current_max)\n",
    "\n",
    "current_warp = linear_warp(row['a'].values[0], row['b'].values[0], index_splines)\n",
    "\n",
    "index_warp_arange = np.arange(np.ceil(current_warp.min()), np.floor(current_warp.max()), dtype=int)\n",
    "\n",
    "# current_warp = inv_linear_warp(row['a'].values[0], row['b'].values[0], index_warp_arange)\n",
    "\n",
    "ts_reference = interpolate.splev(index_splines, spline_reference)\n",
    "ts_current_warp = interpolate.splev(current_warp, spline_current)\n",
    "\n",
    "ts_reference = np.clip(ts_reference, reference_min, reference_max)\n",
    "ts_current_warp = np.clip(ts_current_warp, current_min, current_max)\n",
    "\n",
    "fig, ax = plt.subplots()\n",
    "\n",
    "plt.plot(index_smooth_current, ts_reference_smooth_warp, color=\"blue\")\n",
    "plt.plot(index_smooth_current, ts_current_smooth_warp, color=\"orange\")\n",
    "\n",
    "plt.plot(index_splines, ts_reference, 'o', color=\"blue\")\n",
    "plt.plot(index_splines, ts_current_warp, 'o', color=\"orange\")\n",
    "\n",
    "# plt.plot(index_splines, reference_max, 'ob')\n",
    "plt.show()"
   ]
  },
  {
   "cell_type": "code",
   "execution_count": 30,
   "metadata": {},
   "outputs": [
    {
     "data": {
      "text/plain": [
       "array([-0.24926635,  0.98959521,  2.22845677,  3.46731833,  4.7061799 ,\n",
       "        5.94504146,  7.18390302,  8.42276458,  9.66162614, 10.9004877 ,\n",
       "       12.13934927, 13.37821083, 14.61707239, 15.85593395, 17.09479551])"
      ]
     },
     "execution_count": 30,
     "metadata": {},
     "output_type": "execute_result"
    }
   ],
   "source": [
    "inv_linear_warp(row['a'].values[0], row['b'].values[0], index_splines)"
   ]
  },
  {
   "cell_type": "code",
   "execution_count": 31,
   "metadata": {},
   "outputs": [],
   "source": [
    "index_realtime = linear_warp(row['a'].values[0], row['b'].values[0], index_splines)"
   ]
  },
  {
   "cell_type": "code",
   "execution_count": 32,
   "metadata": {},
   "outputs": [
    {
     "data": {
      "text/plain": [
       "array([-0.24926635,  0.98959521,  2.22845677,  3.46731833,  4.7061799 ,\n",
       "        5.94504146,  7.18390302,  8.42276458,  9.66162614, 10.9004877 ,\n",
       "       12.13934927, 13.37821083, 14.61707239, 15.85593395, 17.09479551])"
      ]
     },
     "execution_count": 32,
     "metadata": {},
     "output_type": "execute_result"
    }
   ],
   "source": [
    "inv_linear_warp(row['a'].values[0], row['b'].values[0], index_splines)"
   ]
  },
  {
   "cell_type": "code",
   "execution_count": 33,
   "metadata": {},
   "outputs": [
    {
     "data": {
      "image/png": "[encoded data removed]",
      "text/plain": [
       "<Figure size 432x288 with 1 Axes>"
      ]
     },
     "metadata": {
      "needs_background": "light"
     },
     "output_type": "display_data"
    }
   ],
   "source": [
    "current = \"MCTs36\"\n",
    "reference = best_aligner\n",
    "taxonomy = 'k__Bacteria;p__Actinobacteria;c__Actinobacteria;o__Bifidobacteriales;f__Bifidobacteriaceae;g__Bifidobacterium;s__Bifidobacterium longum'\n",
    "\n",
    "username_with_tax = set(df_username_presence.loc[df_username_presence.loc[:, taxonomy] > PRESENCE_THRESHOLD].index)\n",
    "\n",
    "fig, ax = plt.subplots()\n",
    "\n",
    "ix = 0\n",
    "for name, row in df_alignment_results.query(f\"reference == '{best_aligner}'\").iterrows():\n",
    "    current = row['current']\n",
    "    if current in username_with_tax and reference != current:\n",
    "        spline_current, current_min, current_max = d_splines[current][taxonomy]\n",
    "        \n",
    "        index_smooth_current = np.linspace(index_splines.min(), index_splines.max(), 10_000)\n",
    "        current_smooth_warp = linear_warp(row['a'], row['b'], index_smooth_current)\n",
    "\n",
    "        ts_current_smooth_warp = interpolate.splev(current_smooth_warp, spline_current)\n",
    "        ts_current_smooth_warp = np.clip(ts_current_smooth_warp, current_min, current_max)\n",
    "        \n",
    "        \n",
    "        current_warp = linear_warp(row['a'], row['b'], index_splines)\n",
    "\n",
    "        ts_current_warp = interpolate.splev(current_warp, spline_current)\n",
    "        ts_current_warp = np.clip(ts_current_warp, current_min, current_max)\n",
    "        \n",
    "        plt.plot(index_smooth_current, ts_current_smooth_warp)\n",
    "        plt.plot(index_splines, ts_current_warp, 'o', color='grey')\n",
    "        ix += 1\n",
    "    if ix > 3:\n",
    "        break\n",
    "\n",
    "# plt.plot(index_splines, reference_max, 'ob')\n",
    "plt.show()"
   ]
  },
  {
   "cell_type": "code",
   "execution_count": 34,
   "metadata": {},
   "outputs": [],
   "source": [
    "df_alignment_results.to_csv(\"../results/alignment_results.txt\", sep=\"\\t\", index=False)"
   ]
  },
  {
   "cell_type": "code",
   "execution_count": 35,
   "metadata": {},
   "outputs": [],
   "source": [
    "# \t\t\tT = [warpFunction(a, b, timepointReferenceSample.offsetID) for timepointReferenceSample in timepointsListReferenceSample]\n",
    "# ##\t\t\tT_inverse = [warpFunctionInverse(a, b, timepointCurrentSample.offsetID) for timepointCurrentSample in timepointsListCurrentSample]\n",
    "# \t\t\ttimepointCurrentSampleMin = warpFunctionInverse(a, b, min(CurrentSampleT))\n",
    "# \t\t\ttimepointCurrentSampleMax = warpFunctionInverse(a, b, max(CurrentSampleT))\n",
    "# \t\t\talpha = max(timepointReferenceSampleMin, timepointCurrentSampleMin)\n",
    "# \t\t\tbeta = min(timepointReferenceSampleMax, timepointCurrentSampleMax)\n",
    "# \t\t\toverlap =  (beta - alpha) / (timepointReferenceSampleMax - timepointReferenceSampleMin)\n",
    "# \t\t\tif overlap > OVERLAP_THRESHOLD and alpha < beta:\n",
    "# \t\t\t\t[alignmentError, a, b] = getAlignmnetError(a, b, alpha, beta, timepointsListReferenceSample, timepointsListCurrentSample, taxonWeights, useSplines)\n",
    "# \t\t\t\tif len(optimalAlignmentParameters) == 0 or optimalAlignmentParameters[0] > alignmentError:\n",
    "# \t\t\t\t\toptimalAlignmentParameters = [alignmentError, a, b, alpha, beta, overlap]"
   ]
  }
 ],
 "metadata": {
  "kernelspec": {
   "display_name": "Python [conda env:.conda-foodworks]",
   "language": "python",
   "name": "conda-env-.conda-foodworks-py"
  },
  "language_info": {
   "codemirror_mode": {
    "name": "ipython",
    "version": 3
   },
   "file_extension": ".py",
   "mimetype": "text/x-python",
   "name": "python",
   "nbconvert_exporter": "python",
   "pygments_lexer": "ipython3",
   "version": "3.9.5"
  }
 },
 "nbformat": 4,
 "nbformat_minor": 4
}
