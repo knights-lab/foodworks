{
 "cells": [
  {
   "cell_type": "code",
   "execution_count": 1,
   "metadata": {},
   "outputs": [
    {
     "name": "stdout",
     "output_type": "stream",
     "text": [
      "numpy   1.19.5\n",
      "seaborn 0.11.1\n",
      "pandas  1.1.4\n",
      "\n"
     ]
    }
   ],
   "source": [
    "import numpy as np\n",
    "import matplotlib.pyplot as plt\n",
    "import pandas as pd\n",
    "import warnings\n",
    "import seaborn as sns\n",
    "\n",
    "from scipy.stats import pearsonr\n",
    "\n",
    "sns.set_style(\"darkgrid\")\n",
    "np.random.seed(930525)\n",
    "pd.set_option('display.max_columns', 20)\n",
    "pd.set_option('display.max_rows', 200)\n",
    "\n",
    "warnings.simplefilter('once')\n",
    "\n",
    "%matplotlib inline\n",
    "%load_ext watermark\n",
    "%watermark --iversions"
   ]
  },
  {
   "cell_type": "code",
   "execution_count": 2,
   "metadata": {},
   "outputs": [
    {
     "name": "stderr",
     "output_type": "stream",
     "text": [
      "/home/bhillmann/.conda/envs/type_1/lib/python3.8/site-packages/ipykernel/ipkernel.py:287: DeprecationWarning: `should_run_async` will not call `transform_cell` automatically in the future. Please pass the result to `transformed_cell` argument and any exception that happen during thetransform in `preprocessing_exc_tuple` in IPython 7.17 and above.\n",
      "  and should_run_async(code)\n",
      "/home/bhillmann/.conda/envs/type_1/lib/python3.8/site-packages/patsy/constraint.py:13: DeprecationWarning: Using or importing the ABCs from 'collections' instead of from 'collections.abc' is deprecated since Python 3.3, and in 3.10 it will stop working\n",
      "  from collections import Mapping\n"
     ]
    }
   ],
   "source": [
    "import networkx as nx\n",
    "import statsmodels.formula.api as smf"
   ]
  },
  {
   "cell_type": "code",
   "execution_count": 3,
   "metadata": {},
   "outputs": [
    {
     "name": "stderr",
     "output_type": "stream",
     "text": [
      "/home/bhillmann/.conda/envs/type_1/lib/python3.8/site-packages/ipykernel/ipkernel.py:287: DeprecationWarning: `should_run_async` will not call `transform_cell` automatically in the future. Please pass the result to `transformed_cell` argument and any exception that happen during thetransform in `preprocessing_exc_tuple` in IPython 7.17 and above.\n",
      "  and should_run_async(code)\n"
     ]
    }
   ],
   "source": [
    "df_dag_train = pd.read_csv(\"../results/dag.prediction.train.response.updated.csv\", sep=\"\\t\")\n",
    "df_dag_train_warp = pd.read_csv(\"../results/dag.prediction.train.response.warp.updated.csv\", sep=\"\\t\")\n",
    "df_train = pd.read_csv(\"../data/train.txt\", index_col=0, header = 0, sep=\"\\t\")\n",
    "df_train_warp = pd.read_csv(\"../data/train.warp.txt\", index_col=0, header = 0, sep=\"\\t\")\n",
    "df_test = pd.read_csv(\"../data/test.txt\", index_col=0, header = 0, sep=\"\\t\")\n",
    "df_test_warp = pd.read_csv(\"../data/test.warp.txt\", index_col=0, header = 0, sep=\"\\t\")\n",
    "\n",
    "# df_train.columns = [col.replace(\" \", \"_\").replace(\";\", \".\") for col in df_train.columns]"
   ]
  },
  {
   "cell_type": "code",
   "execution_count": 4,
   "metadata": {},
   "outputs": [],
   "source": [
    "df_results_warp = pd.read_csv(\"../data/results.dbn.warp.txt\", sep=\"\\t\")\n",
    "df_results_model = pd.read_csv(\"../data/results.dbn.txt\", sep=\"\\t\")"
   ]
  },
  {
   "cell_type": "code",
   "execution_count": 5,
   "metadata": {},
   "outputs": [],
   "source": [
    "day_plus_one = [col for col in df_dag_train.columns if \"day_plus_one\" in col]"
   ]
  },
  {
   "cell_type": "code",
   "execution_count": 6,
   "metadata": {},
   "outputs": [],
   "source": [
    "s_binary = {\"Gender\", \"Supplement\"}"
   ]
  },
  {
   "cell_type": "code",
   "execution_count": 7,
   "metadata": {},
   "outputs": [],
   "source": [
    "G = nx.DiGraph()\n",
    "\n",
    "# linear models warp\n",
    "d_response_2_model_warp = {}\n",
    "for response in day_plus_one:\n",
    "    features = df_dag_train_warp[response]\n",
    "    significant_features = features[features > 0]\n",
    "    fn_count = np.sum([((\"nutrient\" in _) or (\"food\" in _)) for _ in significant_features.index])\n",
    "    if significant_features.sum() > 1 and fn_count > 0:\n",
    "        model_str = \"Q('\" + response + \"')\" + \" ~ \" + \" + \".join([\"Q('\" + _ + \"')\"  if _ not in s_binary else \"C(Q('\" + _ + \"'))\" for _ in significant_features.index]) + \" + 1\"\n",
    "        model = smf.ols(formula=model_str, data=df_train_warp)\n",
    "        res = model.fit_regularized(method=\"elastic_net\", L1_wt=0)\n",
    "        d_response_2_model_warp[response] = res\n",
    "        response_clean = \"t+1.\" + response.split(\".\")[-1]\n",
    "        G.add_nodes_from([\n",
    "            (response_clean, {\"color\": \"orange\", \"shape\": response.split(\".\")[1]})\n",
    "        ])\n",
    "        for ix, significant_feature in enumerate(significant_features.index):\n",
    "            significant_feature_clean = significant_feature.split(\".\")[-1]\n",
    "            if significant_feature_clean not in G:\n",
    "                G.add_nodes_from([\n",
    "                    (significant_feature_clean, {\"color\": \"blue\", \"shape\": significant_feature.split(\".\")[0]})\n",
    "                ])\n",
    "            # Get coefficient from model\n",
    "            G.add_edge(significant_feature_clean, response_clean)\n",
    "            G[significant_feature_clean][response_clean][\"color\"] = \"green\" if res.params[ix + 1] > 0 else \"red\""
   ]
  },
  {
   "cell_type": "code",
   "execution_count": 8,
   "metadata": {},
   "outputs": [
    {
     "name": "stderr",
     "output_type": "stream",
     "text": [
      "/home/bhillmann/.conda/envs/type_1/lib/python3.8/site-packages/ipykernel/ipkernel.py:287: DeprecationWarning: `should_run_async` will not call `transform_cell` automatically in the future. Please pass the result to `transformed_cell` argument and any exception that happen during thetransform in `preprocessing_exc_tuple` in IPython 7.17 and above.\n",
      "  and should_run_async(code)\n"
     ]
    }
   ],
   "source": [
    "nx.write_gml(G, \"network.gml\")"
   ]
  },
  {
   "cell_type": "code",
   "execution_count": 9,
   "metadata": {},
   "outputs": [
    {
     "data": {
      "text/plain": [
       "array([-0.6758818 ,  0.10773751,  0.70284322, -0.33273872, -0.22729032])"
      ]
     },
     "execution_count": 9,
     "metadata": {},
     "output_type": "execute_result"
    }
   ],
   "source": [
    "res.params"
   ]
  },
  {
   "cell_type": "code",
   "execution_count": 10,
   "metadata": {},
   "outputs": [
    {
     "data": {
      "text/plain": [
       "['Intercept',\n",
       " \"Q('tax.k__Bacteria.p__Verrucomicrobiota.c__Verrucomicrobiae.o__Verrucomicrobiales.f__Akkermansiaceae.g__Akkermansia.s__Akkermansia_muciniphila')\",\n",
       " \"Q('tax.k__Bacteria.p__Verrucomicrobiota.c__Verrucomicrobiae.o__Verrucomicrobiales.f__Akkermansiaceae.g__Akkermansia.s__Akkermansia_muciniphila_B')\",\n",
       " \"Q('food.L1_Meat_Poultry_Fish_and_Mixtures.L2_Frozen_and_shelfstable_plate_meals_soups_and_gravies.L3_Soups_broths_extracts_from_meat_poultry_fish_base')\",\n",
       " \"Q('food.L1_Meat_Poultry_Fish_and_Mixtures.L2_Meatpoultry_fish_with_nonmeat.L3_Sandwiches_with_meat_poultry_fish')\"]"
      ]
     },
     "execution_count": 10,
     "metadata": {},
     "output_type": "execute_result"
    }
   ],
   "source": [
    "res.model.exog_names"
   ]
  },
  {
   "cell_type": "code",
   "execution_count": 11,
   "metadata": {},
   "outputs": [
    {
     "data": {
      "text/plain": [
       "['Intercept',\n",
       " \"Q('tax.k__Bacteria.p__Verrucomicrobiota.c__Verrucomicrobiae.o__Verrucomicrobiales.f__Akkermansiaceae.g__Akkermansia.s__Akkermansia_muciniphila')\",\n",
       " \"Q('tax.k__Bacteria.p__Verrucomicrobiota.c__Verrucomicrobiae.o__Verrucomicrobiales.f__Akkermansiaceae.g__Akkermansia.s__Akkermansia_muciniphila_B')\",\n",
       " \"Q('food.L1_Meat_Poultry_Fish_and_Mixtures.L2_Frozen_and_shelfstable_plate_meals_soups_and_gravies.L3_Soups_broths_extracts_from_meat_poultry_fish_base')\",\n",
       " \"Q('food.L1_Meat_Poultry_Fish_and_Mixtures.L2_Meatpoultry_fish_with_nonmeat.L3_Sandwiches_with_meat_poultry_fish')\"]"
      ]
     },
     "execution_count": 11,
     "metadata": {},
     "output_type": "execute_result"
    }
   ],
   "source": [
    "res.model.exog_names"
   ]
  },
  {
   "cell_type": "code",
   "execution_count": 12,
   "metadata": {},
   "outputs": [
    {
     "name": "stderr",
     "output_type": "stream",
     "text": [
      "<>:2: SyntaxWarning: 'tuple' object is not callable; perhaps you missed a comma?\n"
     ]
    },
    {
     "ename": "TypeError",
     "evalue": "'tuple' object is not callable",
     "output_type": "error",
     "traceback": [
      "\u001b[0;31m---------------------------------------------------------------------------\u001b[0m",
      "\u001b[0;31mTypeError\u001b[0m                                 Traceback (most recent call last)",
      "\u001b[0;32m<ipython-input-12-e6bdfde65192>\u001b[0m in \u001b[0;36m<module>\u001b[0;34m\u001b[0m\n\u001b[1;32m      1\u001b[0m G.add_nodes_from([\n\u001b[0;32m----> 2\u001b[0;31m     \u001b[0;34m(\u001b[0m\u001b[0;34m\"test\"\u001b[0m\u001b[0;34m,\u001b[0m \u001b[0;34m{\u001b[0m\u001b[0;34m\"color\"\u001b[0m\u001b[0;34m:\u001b[0m \u001b[0;34m\"orange\"\u001b[0m\u001b[0;34m}\u001b[0m\u001b[0;34m)\u001b[0m\u001b[0;34m\u001b[0m\u001b[0;34m\u001b[0m\u001b[0m\n\u001b[0m\u001b[1;32m      3\u001b[0m     \u001b[0;34m(\u001b[0m\u001b[0;34m\"test2\"\u001b[0m\u001b[0;34m,\u001b[0m \u001b[0;34m{\u001b[0m\u001b[0;34m\"color\"\u001b[0m\u001b[0;34m:\u001b[0m \u001b[0;34m\"blue\"\u001b[0m\u001b[0;34m}\u001b[0m\u001b[0;34m)\u001b[0m\u001b[0;34m,\u001b[0m\u001b[0;34m\u001b[0m\u001b[0;34m\u001b[0m\u001b[0m\n\u001b[1;32m      4\u001b[0m ])\n",
      "\u001b[0;31mTypeError\u001b[0m: 'tuple' object is not callable"
     ]
    }
   ],
   "source": [
    "G.add_nodes_from([\n",
    "    (\"test\", {\"color\": \"orange\"})\n",
    "    (\"test2\", {\"color\": \"blue\"}),\n",
    "])"
   ]
  },
  {
   "cell_type": "code",
   "execution_count": null,
   "metadata": {},
   "outputs": [],
   "source": [
    "G.add_edge(\"test\", \"test2\")\n",
    "G[\"test\"][\"test2\"][\"color\"] = \"green\"\n"
   ]
  },
  {
   "cell_type": "code",
   "execution_count": null,
   "metadata": {},
   "outputs": [],
   "source": [
    "nx.write_gml(G, \"network.gml\")"
   ]
  },
  {
   "cell_type": "code",
   "execution_count": null,
   "metadata": {},
   "outputs": [],
   "source": [
    "d_response_2_model_warp"
   ]
  }
 ],
 "metadata": {
  "kernelspec": {
   "display_name": "Python [conda env:.conda-type_1]",
   "language": "python",
   "name": "conda-env-.conda-type_1-py"
  },
  "language_info": {
   "codemirror_mode": {
    "name": "ipython",
    "version": 3
   },
   "file_extension": ".py",
   "mimetype": "text/x-python",
   "name": "python",
   "nbconvert_exporter": "python",
   "pygments_lexer": "ipython3",
   "version": "3.8.10"
  }
 },
 "nbformat": 4,
 "nbformat_minor": 4
}
