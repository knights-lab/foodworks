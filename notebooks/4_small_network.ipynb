{
 "cells": [
  {
   "cell_type": "code",
   "execution_count": 1,
   "metadata": {},
   "outputs": [
    {
     "ename": "SyntaxError",
     "evalue": "expression cannot contain assignment, perhaps you meant \"==\"? (<ipython-input-1-cca4ee5f6b3a>, line 6)",
     "output_type": "error",
     "traceback": [
      "\u001b[0;36m  File \u001b[0;32m\"<ipython-input-1-cca4ee5f6b3a>\"\u001b[0;36m, line \u001b[0;32m6\u001b[0m\n\u001b[0;31m    data = read.table(\"./results/prediction.small.txt\", header = TRUE, sep=\"\\t\", row.names=1, check.names=F)\u001b[0m\n\u001b[0m                                                                                 ^\u001b[0m\n\u001b[0;31mSyntaxError\u001b[0m\u001b[0;31m:\u001b[0m expression cannot contain assignment, perhaps you meant \"==\"?\n"
     ]
    }
   ],
   "source": [
    "library(bnlearn)\n",
    "library(parallel)\n",
    "\n",
    "source(\"./scripts/dedupe.R\")\n",
    "\n",
    "data = read.table(\"./results/prediction.small.txt\", header = TRUE, sep=\"\\t\", row.names=1, check.names=F)\n",
    "blacklist = read.table(\"./results/blacklist.small.txt\", header=T, sep=\"\\t\")\n",
    "\n",
    "cl = makeCluster(8, type = \"SOCK\")\n",
    "dag = si.hiton.pc(data, cluster = cl, blacklist = blacklist)\n",
    "amat.data = amat(dag)\n",
    "plot(dag)\n",
    "write.table(amat.data, \"./results/dag.small.txt\", sep=\"\\t\")\n"
   ]
  }
 ],
 "metadata": {
  "kernelspec": {
   "display_name": "Python [conda env:.conda-type_1]",
   "language": "python",
   "name": "conda-env-.conda-type_1-py"
  },
  "language_info": {
   "codemirror_mode": {
    "name": "ipython",
    "version": 3
   },
   "file_extension": ".py",
   "mimetype": "text/x-python",
   "name": "python",
   "nbconvert_exporter": "python",
   "pygments_lexer": "ipython3",
   "version": "3.8.10"
  }
 },
 "nbformat": 4,
 "nbformat_minor": 4
}
