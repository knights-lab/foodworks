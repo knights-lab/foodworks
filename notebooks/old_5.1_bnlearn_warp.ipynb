{
 "cells": [
  {
   "cell_type": "code",
   "execution_count": 1,
   "metadata": {},
   "outputs": [],
   "source": [
    "library(bnlearn)\n",
    "library(parallel)\n",
    "\n",
    "data_numeric = read.table(\"../data/prediction.train.numeric.warp.txt\", header = TRUE, sep=\"\\t\", row.names=1, check.names=F, stringsAsFactors=F)\n",
    "blacklist = read.table(\"../data/blacklist.txt\", header=T, sep=\"\\t\", row.names=1)"
   ]
  },
  {
   "cell_type": "code",
   "execution_count": 2,
   "metadata": {},
   "outputs": [],
   "source": [
    "data_binary = read.table(\"../data/prediction.train.binary.warp.txt\", header = TRUE, sep=\"\\t\", row.names=1, check.names=F, stringsAsFactors=T)"
   ]
  },
  {
   "cell_type": "code",
   "execution_count": 3,
   "metadata": {},
   "outputs": [],
   "source": [
    "data_numeric <- as.data.frame(lapply(data_numeric, as.numeric))"
   ]
  },
  {
   "cell_type": "code",
   "execution_count": null,
   "metadata": {},
   "outputs": [],
   "source": [
    "# data = dedup(data_numeric, threshold=.95)"
   ]
  },
  {
   "cell_type": "code",
   "execution_count": 4,
   "metadata": {},
   "outputs": [],
   "source": [
    "# cnames = sample(colnames(data_numeric), 160)\n",
    "cnames = colnames(data_numeric)"
   ]
  },
  {
   "cell_type": "code",
   "execution_count": null,
   "metadata": {},
   "outputs": [],
   "source": [
    "# dim(data)"
   ]
  },
  {
   "cell_type": "code",
   "execution_count": 5,
   "metadata": {},
   "outputs": [],
   "source": [
    "data_small <- data_numeric[,cnames]"
   ]
  },
  {
   "cell_type": "code",
   "execution_count": 6,
   "metadata": {},
   "outputs": [],
   "source": [
    "data = cbind(dedup(data_small, threshold=.95), data_binary)"
   ]
  },
  {
   "cell_type": "code",
   "execution_count": 7,
   "metadata": {},
   "outputs": [],
   "source": [
    "blacklist_small <- blacklist[blacklist$from %in% colnames(data),]\n",
    "blacklist_small <- blacklist_small[blacklist_small$to %in% colnames(data),]"
   ]
  },
  {
   "cell_type": "code",
   "execution_count": 8,
   "metadata": {},
   "outputs": [
    {
     "name": "stdout",
     "output_type": "stream",
     "text": [
      "[1] 22503     2\n"
     ]
    }
   ],
   "source": [
    "print(dim(blacklist_small))"
   ]
  },
  {
   "cell_type": "code",
   "execution_count": null,
   "metadata": {},
   "outputs": [],
   "source": [
    "# blacklist_small"
   ]
  },
  {
   "cell_type": "code",
   "execution_count": null,
   "metadata": {},
   "outputs": [],
   "source": [
    "# data_small"
   ]
  },
  {
   "cell_type": "code",
   "execution_count": null,
   "metadata": {},
   "outputs": [],
   "source": [
    "# data_small = dedup(data_small, threshold=.95)"
   ]
  },
  {
   "cell_type": "code",
   "execution_count": null,
   "metadata": {},
   "outputs": [],
   "source": [
    "# data"
   ]
  },
  {
   "cell_type": "code",
   "execution_count": 9,
   "metadata": {},
   "outputs": [],
   "source": [
    "learn.dag <- function() {\n",
    "    cl = makeCluster(40, type = \"SOCK\")\n",
    "    # dag = si.hiton.pc(data_small, cluster = cl, blacklist = blacklist_small, alpha = 0.05, test=\"mi-cg\")\n",
    "#     dag = si.hiton.pc(data_small, cluster = cl, blacklist = blacklist_small, alpha=0.05, undirected=T, test=\"cor\")\n",
    "    dag = si.hiton.pc(data, cluster = cl, blacklist = blacklist_small, alpha=0.05, undirected=T)\n",
    "    # dag = si.hiton.pc(data_small, blacklist = blacklist_small, alpha = 0.05)\n",
    "    on.exit(stopCluster(cl))\n",
    "    return(dag)\n",
    "}\n",
    "\n",
    "\n",
    "start_time <- Sys.time()\n",
    "dag <- learn.dag()\n",
    "end_time <- Sys.time()\n",
    "amat.data = amat(dag)\n",
    "plot(dag)\n",
    "write.table(amat.data, \"../results/dag.prediction.train.warp.csv\", sep=\"\\t\")\n",
    "print(end_time - start_time)"
   ]
  },
  {
   "cell_type": "code",
   "execution_count": null,
   "metadata": {},
   "outputs": [],
   "source": [
    "dag"
   ]
  },
  {
   "cell_type": "code",
   "execution_count": null,
   "metadata": {},
   "outputs": [],
   "source": []
  },
  {
   "cell_type": "code",
   "execution_count": null,
   "metadata": {},
   "outputs": [],
   "source": [
    "dag$nodes"
   ]
  },
  {
   "cell_type": "code",
   "execution_count": null,
   "metadata": {},
   "outputs": [],
   "source": [
    "# blacklist"
   ]
  }
 ],
 "metadata": {
  "kernelspec": {
   "display_name": "R [conda env:.conda-foodworks]",
   "language": "R",
   "name": "conda-env-.conda-foodworks-r"
  },
  "language_info": {
   "codemirror_mode": "r",
   "file_extension": ".r",
   "mimetype": "text/x-r-source",
   "name": "R",
   "pygments_lexer": "r",
   "version": "4.0.5"
  }
 },
 "nbformat": 4,
 "nbformat_minor": 4
}
