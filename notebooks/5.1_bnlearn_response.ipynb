{
 "cells": [
  {
   "cell_type": "code",
   "execution_count": 1,
   "metadata": {},
   "outputs": [],
   "source": [
    "library(bnlearn)\n",
    "library(parallel)\n",
    "\n",
    "data_numeric = read.table(\"../data/prediction.train.numeric.txt\", header = TRUE, sep=\"\\t\", row.names=1, check.names=F, stringsAsFactors=F)\n",
    "data_response = read.table(\"../data/prediction.train.response.txt\", header = TRUE, sep=\"\\t\", row.names=1, check.names=F, stringsAsFactors=F)\n",
    "blacklist = read.table(\"../data/blacklist.txt\", header=T, sep=\"\\t\", row.names=1)"
   ]
  },
  {
   "cell_type": "code",
   "execution_count": 2,
   "metadata": {},
   "outputs": [],
   "source": [
    "data_binary = read.table(\"../data/prediction.train.binary.txt\", header = TRUE, sep=\"\\t\", row.names=1, check.names=F, stringsAsFactors=T)"
   ]
  },
  {
   "cell_type": "code",
   "execution_count": 3,
   "metadata": {},
   "outputs": [],
   "source": [
    "data_numeric <- as.data.frame(lapply(data_numeric, as.numeric))\n",
    "data_response <- as.data.frame(lapply(data_response, as.numeric))"
   ]
  },
  {
   "cell_type": "code",
   "execution_count": 4,
   "metadata": {},
   "outputs": [],
   "source": [
    "# data = dedup(data_numeric, threshold=.95)"
   ]
  },
  {
   "cell_type": "code",
   "execution_count": 5,
   "metadata": {},
   "outputs": [],
   "source": [
    "# cnames = sample(colnames(data_numeric), 10)\n",
    "cnames = colnames(data_numeric)\n",
    "# cnames_response = sample(colnames(data_response), 10)\n",
    "cnames_response =colnames(data_response)"
   ]
  },
  {
   "cell_type": "code",
   "execution_count": 6,
   "metadata": {},
   "outputs": [],
   "source": [
    "# dim(data)"
   ]
  },
  {
   "cell_type": "code",
   "execution_count": 7,
   "metadata": {},
   "outputs": [],
   "source": [
    "data_small <- data_numeric[,cnames]\n",
    "data_response <- data_response[,cnames_response]"
   ]
  },
  {
   "cell_type": "code",
   "execution_count": 8,
   "metadata": {},
   "outputs": [],
   "source": [
    "data = cbind(dedup(data_small, threshold=.95), data_binary, data_response)"
   ]
  },
  {
   "cell_type": "code",
   "execution_count": 9,
   "metadata": {},
   "outputs": [],
   "source": [
    "blacklist_small <- blacklist[blacklist$from %in% colnames(data),]\n",
    "blacklist_small <- blacklist_small[blacklist_small$to %in% colnames(data),]"
   ]
  },
  {
   "cell_type": "code",
   "execution_count": 10,
   "metadata": {},
   "outputs": [
    {
     "name": "stdout",
     "output_type": "stream",
     "text": [
      "[1] 39279     2\n"
     ]
    }
   ],
   "source": [
    "print(dim(blacklist_small))"
   ]
  },
  {
   "cell_type": "code",
   "execution_count": 11,
   "metadata": {},
   "outputs": [
    {
     "data": {
      "text/html": [
       "<table class=\"dataframe\">\n",
       "<caption>A data.frame: 39279 × 2</caption>\n",
       "<thead>\n",
       "\t<tr><th></th><th scope=col>from</th><th scope=col>to</th></tr>\n",
       "\t<tr><th></th><th scope=col>&lt;chr&gt;</th><th scope=col>&lt;chr&gt;</th></tr>\n",
       "</thead>\n",
       "<tbody>\n",
       "\t<tr><th scope=row>0</th><td>food.L1_Dry_Beans_Peas_Other_Legumes_Nuts_and_Seeds.L2_Legumes.L3_Dried_beans</td><td>food.L1_Dry_Beans_Peas_Other_Legumes_Nuts_and_Seeds.L2_Legumes.L3_Dried_beans                                                                      </td></tr>\n",
       "\t<tr><th scope=row>1</th><td>food.L1_Dry_Beans_Peas_Other_Legumes_Nuts_and_Seeds.L2_Legumes.L3_Dried_beans</td><td>food.L1_Dry_Beans_Peas_Other_Legumes_Nuts_and_Seeds.L2_Nuts_nut_butters_and_nut_mixtures.L3_Nut_butters                                            </td></tr>\n",
       "\t<tr><th scope=row>2</th><td>food.L1_Dry_Beans_Peas_Other_Legumes_Nuts_and_Seeds.L2_Legumes.L3_Dried_beans</td><td>food.L1_Dry_Beans_Peas_Other_Legumes_Nuts_and_Seeds.L2_Nuts_nut_butters_and_nut_mixtures.L3_Nut_mixtures                                           </td></tr>\n",
       "\t<tr><th scope=row>3</th><td>food.L1_Dry_Beans_Peas_Other_Legumes_Nuts_and_Seeds.L2_Legumes.L3_Dried_beans</td><td>food.L1_Dry_Beans_Peas_Other_Legumes_Nuts_and_Seeds.L2_Nuts_nut_butters_and_nut_mixtures.L3_Nuts                                                   </td></tr>\n",
       "\t<tr><th scope=row>4</th><td>food.L1_Dry_Beans_Peas_Other_Legumes_Nuts_and_Seeds.L2_Legumes.L3_Dried_beans</td><td>food.L1_Dry_Beans_Peas_Other_Legumes_Nuts_and_Seeds.L2_Seeds_and_seed_mixtures.L3_Seeds                                                            </td></tr>\n",
       "\t<tr><th scope=row>5</th><td>food.L1_Dry_Beans_Peas_Other_Legumes_Nuts_and_Seeds.L2_Legumes.L3_Dried_beans</td><td>food.L1_Eggs.L2_Egg_mixtures.L3_Egg_dishes_made_with_whole_eggs                                                                                    </td></tr>\n",
       "\t<tr><th scope=row>6</th><td>food.L1_Dry_Beans_Peas_Other_Legumes_Nuts_and_Seeds.L2_Legumes.L3_Dried_beans</td><td>food.L1_Fruits.L2_Other_fruits.L3_Fruits_excluding_berries                                                                                         </td></tr>\n",
       "\t<tr><th scope=row>7</th><td>food.L1_Dry_Beans_Peas_Other_Legumes_Nuts_and_Seeds.L2_Legumes.L3_Dried_beans</td><td>food.L1_Grain_Product.L2_Cakes_cookies_pies_pastries_bars.L3_Bars                                                                                  </td></tr>\n",
       "\t<tr><th scope=row>8</th><td>food.L1_Dry_Beans_Peas_Other_Legumes_Nuts_and_Seeds.L2_Legumes.L3_Dried_beans</td><td>food.L1_Grain_Product.L2_Cakes_cookies_pies_pastries_bars.L3_Cakes                                                                                 </td></tr>\n",
       "\t<tr><th scope=row>9</th><td>food.L1_Dry_Beans_Peas_Other_Legumes_Nuts_and_Seeds.L2_Legumes.L3_Dried_beans</td><td>food.L1_Grain_Product.L2_Cakes_cookies_pies_pastries_bars.L3_Cookies                                                                               </td></tr>\n",
       "\t<tr><th scope=row>10</th><td>food.L1_Dry_Beans_Peas_Other_Legumes_Nuts_and_Seeds.L2_Legumes.L3_Dried_beans</td><td>food.L1_Grain_Product.L2_Cakes_cookies_pies_pastries_bars.L3_Pies_fruit_pies_pie_tarts                                                             </td></tr>\n",
       "\t<tr><th scope=row>11</th><td>food.L1_Dry_Beans_Peas_Other_Legumes_Nuts_and_Seeds.L2_Legumes.L3_Dried_beans</td><td>food.L1_Grain_Product.L2_Cereals_not_cooked_or_NS_as_to_cooked.L3_Readytoeat_cereals                                                               </td></tr>\n",
       "\t<tr><th scope=row>12</th><td>food.L1_Dry_Beans_Peas_Other_Legumes_Nuts_and_Seeds.L2_Legumes.L3_Dried_beans</td><td>food.L1_Grain_Product.L2_Crackers_and_salty_snacks_from_grain.L3_Nonsweet_crackers                                                                 </td></tr>\n",
       "\t<tr><th scope=row>13</th><td>food.L1_Dry_Beans_Peas_Other_Legumes_Nuts_and_Seeds.L2_Legumes.L3_Dried_beans</td><td>food.L1_Grain_Product.L2_Crackers_and_salty_snacks_from_grain.L3_Salty_snacks_from_grain_products                                                  </td></tr>\n",
       "\t<tr><th scope=row>14</th><td>food.L1_Dry_Beans_Peas_Other_Legumes_Nuts_and_Seeds.L2_Legumes.L3_Dried_beans</td><td>food.L1_Grain_Product.L2_Grain_mixtures_frozen_plate_meals_soups.L3_Mixtures_mainly_grain_pasta_or_bread                                           </td></tr>\n",
       "\t<tr><th scope=row>15</th><td>food.L1_Dry_Beans_Peas_Other_Legumes_Nuts_and_Seeds.L2_Legumes.L3_Dried_beans</td><td>food.L1_Grain_Product.L2_Grain_mixtures_frozen_plate_meals_soups.L3_Soups_with_grain_product_as_major_ingredient                                   </td></tr>\n",
       "\t<tr><th scope=row>16</th><td>food.L1_Dry_Beans_Peas_Other_Legumes_Nuts_and_Seeds.L2_Legumes.L3_Dried_beans</td><td>food.L1_Grain_Product.L2_Pastas_cooked_cereals_rice.L3_Cooked_cereals_rice                                                                         </td></tr>\n",
       "\t<tr><th scope=row>17</th><td>food.L1_Dry_Beans_Peas_Other_Legumes_Nuts_and_Seeds.L2_Legumes.L3_Dried_beans</td><td>food.L1_Grain_Product.L2_Pastas_cooked_cereals_rice.L3_Pastas                                                                                      </td></tr>\n",
       "\t<tr><th scope=row>18</th><td>food.L1_Dry_Beans_Peas_Other_Legumes_Nuts_and_Seeds.L2_Legumes.L3_Dried_beans</td><td>food.L1_Grain_Product.L2_Quick_breads.L3_Cornbread_corn_muffins_tortillas                                                                          </td></tr>\n",
       "\t<tr><th scope=row>19</th><td>food.L1_Dry_Beans_Peas_Other_Legumes_Nuts_and_Seeds.L2_Legumes.L3_Dried_beans</td><td>food.L1_Grain_Product.L2_Quick_breads.L3_Other_muffins_popovers                                                                                    </td></tr>\n",
       "\t<tr><th scope=row>20</th><td>food.L1_Dry_Beans_Peas_Other_Legumes_Nuts_and_Seeds.L2_Legumes.L3_Dried_beans</td><td>food.L1_Grain_Product.L2_Quick_breads.L3_Other_quick_breads                                                                                        </td></tr>\n",
       "\t<tr><th scope=row>21</th><td>food.L1_Dry_Beans_Peas_Other_Legumes_Nuts_and_Seeds.L2_Legumes.L3_Dried_beans</td><td>food.L1_Grain_Product.L2_Yeast.L3_Breadrolls_NFS                                                                                                   </td></tr>\n",
       "\t<tr><th scope=row>22</th><td>food.L1_Dry_Beans_Peas_Other_Legumes_Nuts_and_Seeds.L2_Legumes.L3_Dried_beans</td><td>food.L1_Grain_Product.L2_Yeast.L3_Multigrain_breads_rolls                                                                                          </td></tr>\n",
       "\t<tr><th scope=row>23</th><td>food.L1_Dry_Beans_Peas_Other_Legumes_Nuts_and_Seeds.L2_Legumes.L3_Dried_beans</td><td>food.L1_Grain_Product.L2_Yeast.L3_Wheat_cracked_wheat_breads_rolls                                                                                 </td></tr>\n",
       "\t<tr><th scope=row>24</th><td>food.L1_Dry_Beans_Peas_Other_Legumes_Nuts_and_Seeds.L2_Legumes.L3_Dried_beans</td><td>food.L1_Grain_Product.L2_Yeast.L3_White_breads_rolls                                                                                               </td></tr>\n",
       "\t<tr><th scope=row>25</th><td>food.L1_Dry_Beans_Peas_Other_Legumes_Nuts_and_Seeds.L2_Legumes.L3_Dried_beans</td><td>food.L1_Grain_Product.L2_Yeast.L3_Whole_wheat_breads_rolls                                                                                         </td></tr>\n",
       "\t<tr><th scope=row>26</th><td>food.L1_Dry_Beans_Peas_Other_Legumes_Nuts_and_Seeds.L2_Legumes.L3_Dried_beans</td><td>food.L1_Meat_Poultry_Fish_and_Mixtures.L2_Beef.L3_Beef_NS                                                                                          </td></tr>\n",
       "\t<tr><th scope=row>27</th><td>food.L1_Dry_Beans_Peas_Other_Legumes_Nuts_and_Seeds.L2_Legumes.L3_Dried_beans</td><td>food.L1_Meat_Poultry_Fish_and_Mixtures.L2_Beef.L3_Beef_roasts_stew_meat_corned_beef_beef_brisket_sandwich_steaks                                   </td></tr>\n",
       "\t<tr><th scope=row>28</th><td>food.L1_Dry_Beans_Peas_Other_Legumes_Nuts_and_Seeds.L2_Legumes.L3_Dried_beans</td><td>food.L1_Meat_Poultry_Fish_and_Mixtures.L2_Fish_and_shellfish.L3_Finfish                                                                            </td></tr>\n",
       "\t<tr><th scope=row>29</th><td>food.L1_Dry_Beans_Peas_Other_Legumes_Nuts_and_Seeds.L2_Legumes.L3_Dried_beans</td><td>food.L1_Meat_Poultry_Fish_and_Mixtures.L2_Frozen_and_shelfstable_plate_meals_soups_and_gravies.L3_Soups_broths_extracts_from_meat_poultry_fish_base</td></tr>\n",
       "\t<tr><th scope=row>⋮</th><td>⋮</td><td>⋮</td></tr>\n",
       "\t<tr><th scope=row>42191</th><td>Activity.Factor</td><td>kegg.K03406      </td></tr>\n",
       "\t<tr><th scope=row>42193</th><td>Activity.Factor</td><td>kegg.K03832      </td></tr>\n",
       "\t<tr><th scope=row>42194</th><td>Activity.Factor</td><td>kegg.K05349      </td></tr>\n",
       "\t<tr><th scope=row>42195</th><td>Activity.Factor</td><td>kegg.K05970      </td></tr>\n",
       "\t<tr><th scope=row>42196</th><td>Activity.Factor</td><td>kegg.K06113      </td></tr>\n",
       "\t<tr><th scope=row>42197</th><td>Activity.Factor</td><td>kegg.K06147      </td></tr>\n",
       "\t<tr><th scope=row>42198</th><td>Activity.Factor</td><td>kegg.K06921      </td></tr>\n",
       "\t<tr><th scope=row>42199</th><td>Activity.Factor</td><td>kegg.K07085      </td></tr>\n",
       "\t<tr><th scope=row>42200</th><td>Activity.Factor</td><td>kegg.K07133      </td></tr>\n",
       "\t<tr><th scope=row>42201</th><td>Activity.Factor</td><td>kegg.K07154      </td></tr>\n",
       "\t<tr><th scope=row>42202</th><td>Activity.Factor</td><td>kegg.K07484      </td></tr>\n",
       "\t<tr><th scope=row>42203</th><td>Activity.Factor</td><td>kegg.K07497      </td></tr>\n",
       "\t<tr><th scope=row>42204</th><td>Activity.Factor</td><td>kegg.K07713      </td></tr>\n",
       "\t<tr><th scope=row>42205</th><td>Activity.Factor</td><td>kegg.K09955      </td></tr>\n",
       "\t<tr><th scope=row>42206</th><td>Activity.Factor</td><td>kegg.K12373      </td></tr>\n",
       "\t<tr><th scope=row>42207</th><td>Activity.Factor</td><td>kegg.K15923      </td></tr>\n",
       "\t<tr><th scope=row>42208</th><td>Activity.Factor</td><td>kegg.K16089      </td></tr>\n",
       "\t<tr><th scope=row>42209</th><td>Activity.Factor</td><td>kegg.K16785      </td></tr>\n",
       "\t<tr><th scope=row>42212</th><td>Activity.Factor</td><td>kegg.K21571      </td></tr>\n",
       "\t<tr><th scope=row>42213</th><td>Activity.Factor</td><td>kegg.K21572      </td></tr>\n",
       "\t<tr><th scope=row>42214</th><td>Activity.Factor</td><td>kegg.other       </td></tr>\n",
       "\t<tr><th scope=row>42215</th><td>Activity.Factor</td><td>StudyDayNo       </td></tr>\n",
       "\t<tr><th scope=row>42216</th><td>Activity.Factor</td><td>Gender           </td></tr>\n",
       "\t<tr><th scope=row>42217</th><td>Activity.Factor</td><td>Age              </td></tr>\n",
       "\t<tr><th scope=row>42218</th><td>Activity.Factor</td><td>Weight           </td></tr>\n",
       "\t<tr><th scope=row>42219</th><td>Activity.Factor</td><td>Height           </td></tr>\n",
       "\t<tr><th scope=row>42220</th><td>Activity.Factor</td><td>BMI              </td></tr>\n",
       "\t<tr><th scope=row>42221</th><td>Activity.Factor</td><td>Supplement       </td></tr>\n",
       "\t<tr><th scope=row>42222</th><td>Activity.Factor</td><td>oilGrams.assigned</td></tr>\n",
       "\t<tr><th scope=row>42224</th><td>Activity.Factor</td><td>Activity.Factor  </td></tr>\n",
       "</tbody>\n",
       "</table>\n"
      ],
      "text/latex": [
       "A data.frame: 39279 × 2\n",
       "\\begin{tabular}{r|ll}\n",
       "  & from & to\\\\\n",
       "  & <chr> & <chr>\\\\\n",
       "\\hline\n",
       "\t0 & food.L1\\_Dry\\_Beans\\_Peas\\_Other\\_Legumes\\_Nuts\\_and\\_Seeds.L2\\_Legumes.L3\\_Dried\\_beans & food.L1\\_Dry\\_Beans\\_Peas\\_Other\\_Legumes\\_Nuts\\_and\\_Seeds.L2\\_Legumes.L3\\_Dried\\_beans                                                                      \\\\\n",
       "\t1 & food.L1\\_Dry\\_Beans\\_Peas\\_Other\\_Legumes\\_Nuts\\_and\\_Seeds.L2\\_Legumes.L3\\_Dried\\_beans & food.L1\\_Dry\\_Beans\\_Peas\\_Other\\_Legumes\\_Nuts\\_and\\_Seeds.L2\\_Nuts\\_nut\\_butters\\_and\\_nut\\_mixtures.L3\\_Nut\\_butters                                            \\\\\n",
       "\t2 & food.L1\\_Dry\\_Beans\\_Peas\\_Other\\_Legumes\\_Nuts\\_and\\_Seeds.L2\\_Legumes.L3\\_Dried\\_beans & food.L1\\_Dry\\_Beans\\_Peas\\_Other\\_Legumes\\_Nuts\\_and\\_Seeds.L2\\_Nuts\\_nut\\_butters\\_and\\_nut\\_mixtures.L3\\_Nut\\_mixtures                                           \\\\\n",
       "\t3 & food.L1\\_Dry\\_Beans\\_Peas\\_Other\\_Legumes\\_Nuts\\_and\\_Seeds.L2\\_Legumes.L3\\_Dried\\_beans & food.L1\\_Dry\\_Beans\\_Peas\\_Other\\_Legumes\\_Nuts\\_and\\_Seeds.L2\\_Nuts\\_nut\\_butters\\_and\\_nut\\_mixtures.L3\\_Nuts                                                   \\\\\n",
       "\t4 & food.L1\\_Dry\\_Beans\\_Peas\\_Other\\_Legumes\\_Nuts\\_and\\_Seeds.L2\\_Legumes.L3\\_Dried\\_beans & food.L1\\_Dry\\_Beans\\_Peas\\_Other\\_Legumes\\_Nuts\\_and\\_Seeds.L2\\_Seeds\\_and\\_seed\\_mixtures.L3\\_Seeds                                                            \\\\\n",
       "\t5 & food.L1\\_Dry\\_Beans\\_Peas\\_Other\\_Legumes\\_Nuts\\_and\\_Seeds.L2\\_Legumes.L3\\_Dried\\_beans & food.L1\\_Eggs.L2\\_Egg\\_mixtures.L3\\_Egg\\_dishes\\_made\\_with\\_whole\\_eggs                                                                                    \\\\\n",
       "\t6 & food.L1\\_Dry\\_Beans\\_Peas\\_Other\\_Legumes\\_Nuts\\_and\\_Seeds.L2\\_Legumes.L3\\_Dried\\_beans & food.L1\\_Fruits.L2\\_Other\\_fruits.L3\\_Fruits\\_excluding\\_berries                                                                                         \\\\\n",
       "\t7 & food.L1\\_Dry\\_Beans\\_Peas\\_Other\\_Legumes\\_Nuts\\_and\\_Seeds.L2\\_Legumes.L3\\_Dried\\_beans & food.L1\\_Grain\\_Product.L2\\_Cakes\\_cookies\\_pies\\_pastries\\_bars.L3\\_Bars                                                                                  \\\\\n",
       "\t8 & food.L1\\_Dry\\_Beans\\_Peas\\_Other\\_Legumes\\_Nuts\\_and\\_Seeds.L2\\_Legumes.L3\\_Dried\\_beans & food.L1\\_Grain\\_Product.L2\\_Cakes\\_cookies\\_pies\\_pastries\\_bars.L3\\_Cakes                                                                                 \\\\\n",
       "\t9 & food.L1\\_Dry\\_Beans\\_Peas\\_Other\\_Legumes\\_Nuts\\_and\\_Seeds.L2\\_Legumes.L3\\_Dried\\_beans & food.L1\\_Grain\\_Product.L2\\_Cakes\\_cookies\\_pies\\_pastries\\_bars.L3\\_Cookies                                                                               \\\\\n",
       "\t10 & food.L1\\_Dry\\_Beans\\_Peas\\_Other\\_Legumes\\_Nuts\\_and\\_Seeds.L2\\_Legumes.L3\\_Dried\\_beans & food.L1\\_Grain\\_Product.L2\\_Cakes\\_cookies\\_pies\\_pastries\\_bars.L3\\_Pies\\_fruit\\_pies\\_pie\\_tarts                                                             \\\\\n",
       "\t11 & food.L1\\_Dry\\_Beans\\_Peas\\_Other\\_Legumes\\_Nuts\\_and\\_Seeds.L2\\_Legumes.L3\\_Dried\\_beans & food.L1\\_Grain\\_Product.L2\\_Cereals\\_not\\_cooked\\_or\\_NS\\_as\\_to\\_cooked.L3\\_Readytoeat\\_cereals                                                               \\\\\n",
       "\t12 & food.L1\\_Dry\\_Beans\\_Peas\\_Other\\_Legumes\\_Nuts\\_and\\_Seeds.L2\\_Legumes.L3\\_Dried\\_beans & food.L1\\_Grain\\_Product.L2\\_Crackers\\_and\\_salty\\_snacks\\_from\\_grain.L3\\_Nonsweet\\_crackers                                                                 \\\\\n",
       "\t13 & food.L1\\_Dry\\_Beans\\_Peas\\_Other\\_Legumes\\_Nuts\\_and\\_Seeds.L2\\_Legumes.L3\\_Dried\\_beans & food.L1\\_Grain\\_Product.L2\\_Crackers\\_and\\_salty\\_snacks\\_from\\_grain.L3\\_Salty\\_snacks\\_from\\_grain\\_products                                                  \\\\\n",
       "\t14 & food.L1\\_Dry\\_Beans\\_Peas\\_Other\\_Legumes\\_Nuts\\_and\\_Seeds.L2\\_Legumes.L3\\_Dried\\_beans & food.L1\\_Grain\\_Product.L2\\_Grain\\_mixtures\\_frozen\\_plate\\_meals\\_soups.L3\\_Mixtures\\_mainly\\_grain\\_pasta\\_or\\_bread                                           \\\\\n",
       "\t15 & food.L1\\_Dry\\_Beans\\_Peas\\_Other\\_Legumes\\_Nuts\\_and\\_Seeds.L2\\_Legumes.L3\\_Dried\\_beans & food.L1\\_Grain\\_Product.L2\\_Grain\\_mixtures\\_frozen\\_plate\\_meals\\_soups.L3\\_Soups\\_with\\_grain\\_product\\_as\\_major\\_ingredient                                   \\\\\n",
       "\t16 & food.L1\\_Dry\\_Beans\\_Peas\\_Other\\_Legumes\\_Nuts\\_and\\_Seeds.L2\\_Legumes.L3\\_Dried\\_beans & food.L1\\_Grain\\_Product.L2\\_Pastas\\_cooked\\_cereals\\_rice.L3\\_Cooked\\_cereals\\_rice                                                                         \\\\\n",
       "\t17 & food.L1\\_Dry\\_Beans\\_Peas\\_Other\\_Legumes\\_Nuts\\_and\\_Seeds.L2\\_Legumes.L3\\_Dried\\_beans & food.L1\\_Grain\\_Product.L2\\_Pastas\\_cooked\\_cereals\\_rice.L3\\_Pastas                                                                                      \\\\\n",
       "\t18 & food.L1\\_Dry\\_Beans\\_Peas\\_Other\\_Legumes\\_Nuts\\_and\\_Seeds.L2\\_Legumes.L3\\_Dried\\_beans & food.L1\\_Grain\\_Product.L2\\_Quick\\_breads.L3\\_Cornbread\\_corn\\_muffins\\_tortillas                                                                          \\\\\n",
       "\t19 & food.L1\\_Dry\\_Beans\\_Peas\\_Other\\_Legumes\\_Nuts\\_and\\_Seeds.L2\\_Legumes.L3\\_Dried\\_beans & food.L1\\_Grain\\_Product.L2\\_Quick\\_breads.L3\\_Other\\_muffins\\_popovers                                                                                    \\\\\n",
       "\t20 & food.L1\\_Dry\\_Beans\\_Peas\\_Other\\_Legumes\\_Nuts\\_and\\_Seeds.L2\\_Legumes.L3\\_Dried\\_beans & food.L1\\_Grain\\_Product.L2\\_Quick\\_breads.L3\\_Other\\_quick\\_breads                                                                                        \\\\\n",
       "\t21 & food.L1\\_Dry\\_Beans\\_Peas\\_Other\\_Legumes\\_Nuts\\_and\\_Seeds.L2\\_Legumes.L3\\_Dried\\_beans & food.L1\\_Grain\\_Product.L2\\_Yeast.L3\\_Breadrolls\\_NFS                                                                                                   \\\\\n",
       "\t22 & food.L1\\_Dry\\_Beans\\_Peas\\_Other\\_Legumes\\_Nuts\\_and\\_Seeds.L2\\_Legumes.L3\\_Dried\\_beans & food.L1\\_Grain\\_Product.L2\\_Yeast.L3\\_Multigrain\\_breads\\_rolls                                                                                          \\\\\n",
       "\t23 & food.L1\\_Dry\\_Beans\\_Peas\\_Other\\_Legumes\\_Nuts\\_and\\_Seeds.L2\\_Legumes.L3\\_Dried\\_beans & food.L1\\_Grain\\_Product.L2\\_Yeast.L3\\_Wheat\\_cracked\\_wheat\\_breads\\_rolls                                                                                 \\\\\n",
       "\t24 & food.L1\\_Dry\\_Beans\\_Peas\\_Other\\_Legumes\\_Nuts\\_and\\_Seeds.L2\\_Legumes.L3\\_Dried\\_beans & food.L1\\_Grain\\_Product.L2\\_Yeast.L3\\_White\\_breads\\_rolls                                                                                               \\\\\n",
       "\t25 & food.L1\\_Dry\\_Beans\\_Peas\\_Other\\_Legumes\\_Nuts\\_and\\_Seeds.L2\\_Legumes.L3\\_Dried\\_beans & food.L1\\_Grain\\_Product.L2\\_Yeast.L3\\_Whole\\_wheat\\_breads\\_rolls                                                                                         \\\\\n",
       "\t26 & food.L1\\_Dry\\_Beans\\_Peas\\_Other\\_Legumes\\_Nuts\\_and\\_Seeds.L2\\_Legumes.L3\\_Dried\\_beans & food.L1\\_Meat\\_Poultry\\_Fish\\_and\\_Mixtures.L2\\_Beef.L3\\_Beef\\_NS                                                                                          \\\\\n",
       "\t27 & food.L1\\_Dry\\_Beans\\_Peas\\_Other\\_Legumes\\_Nuts\\_and\\_Seeds.L2\\_Legumes.L3\\_Dried\\_beans & food.L1\\_Meat\\_Poultry\\_Fish\\_and\\_Mixtures.L2\\_Beef.L3\\_Beef\\_roasts\\_stew\\_meat\\_corned\\_beef\\_beef\\_brisket\\_sandwich\\_steaks                                   \\\\\n",
       "\t28 & food.L1\\_Dry\\_Beans\\_Peas\\_Other\\_Legumes\\_Nuts\\_and\\_Seeds.L2\\_Legumes.L3\\_Dried\\_beans & food.L1\\_Meat\\_Poultry\\_Fish\\_and\\_Mixtures.L2\\_Fish\\_and\\_shellfish.L3\\_Finfish                                                                            \\\\\n",
       "\t29 & food.L1\\_Dry\\_Beans\\_Peas\\_Other\\_Legumes\\_Nuts\\_and\\_Seeds.L2\\_Legumes.L3\\_Dried\\_beans & food.L1\\_Meat\\_Poultry\\_Fish\\_and\\_Mixtures.L2\\_Frozen\\_and\\_shelfstable\\_plate\\_meals\\_soups\\_and\\_gravies.L3\\_Soups\\_broths\\_extracts\\_from\\_meat\\_poultry\\_fish\\_base\\\\\n",
       "\t⋮ & ⋮ & ⋮\\\\\n",
       "\t42191 & Activity.Factor & kegg.K03406      \\\\\n",
       "\t42193 & Activity.Factor & kegg.K03832      \\\\\n",
       "\t42194 & Activity.Factor & kegg.K05349      \\\\\n",
       "\t42195 & Activity.Factor & kegg.K05970      \\\\\n",
       "\t42196 & Activity.Factor & kegg.K06113      \\\\\n",
       "\t42197 & Activity.Factor & kegg.K06147      \\\\\n",
       "\t42198 & Activity.Factor & kegg.K06921      \\\\\n",
       "\t42199 & Activity.Factor & kegg.K07085      \\\\\n",
       "\t42200 & Activity.Factor & kegg.K07133      \\\\\n",
       "\t42201 & Activity.Factor & kegg.K07154      \\\\\n",
       "\t42202 & Activity.Factor & kegg.K07484      \\\\\n",
       "\t42203 & Activity.Factor & kegg.K07497      \\\\\n",
       "\t42204 & Activity.Factor & kegg.K07713      \\\\\n",
       "\t42205 & Activity.Factor & kegg.K09955      \\\\\n",
       "\t42206 & Activity.Factor & kegg.K12373      \\\\\n",
       "\t42207 & Activity.Factor & kegg.K15923      \\\\\n",
       "\t42208 & Activity.Factor & kegg.K16089      \\\\\n",
       "\t42209 & Activity.Factor & kegg.K16785      \\\\\n",
       "\t42212 & Activity.Factor & kegg.K21571      \\\\\n",
       "\t42213 & Activity.Factor & kegg.K21572      \\\\\n",
       "\t42214 & Activity.Factor & kegg.other       \\\\\n",
       "\t42215 & Activity.Factor & StudyDayNo       \\\\\n",
       "\t42216 & Activity.Factor & Gender           \\\\\n",
       "\t42217 & Activity.Factor & Age              \\\\\n",
       "\t42218 & Activity.Factor & Weight           \\\\\n",
       "\t42219 & Activity.Factor & Height           \\\\\n",
       "\t42220 & Activity.Factor & BMI              \\\\\n",
       "\t42221 & Activity.Factor & Supplement       \\\\\n",
       "\t42222 & Activity.Factor & oilGrams.assigned\\\\\n",
       "\t42224 & Activity.Factor & Activity.Factor  \\\\\n",
       "\\end{tabular}\n"
      ],
      "text/markdown": [
       "\n",
       "A data.frame: 39279 × 2\n",
       "\n",
       "| <!--/--> | from &lt;chr&gt; | to &lt;chr&gt; |\n",
       "|---|---|---|\n",
       "| 0 | food.L1_Dry_Beans_Peas_Other_Legumes_Nuts_and_Seeds.L2_Legumes.L3_Dried_beans | food.L1_Dry_Beans_Peas_Other_Legumes_Nuts_and_Seeds.L2_Legumes.L3_Dried_beans                                                                       |\n",
       "| 1 | food.L1_Dry_Beans_Peas_Other_Legumes_Nuts_and_Seeds.L2_Legumes.L3_Dried_beans | food.L1_Dry_Beans_Peas_Other_Legumes_Nuts_and_Seeds.L2_Nuts_nut_butters_and_nut_mixtures.L3_Nut_butters                                             |\n",
       "| 2 | food.L1_Dry_Beans_Peas_Other_Legumes_Nuts_and_Seeds.L2_Legumes.L3_Dried_beans | food.L1_Dry_Beans_Peas_Other_Legumes_Nuts_and_Seeds.L2_Nuts_nut_butters_and_nut_mixtures.L3_Nut_mixtures                                            |\n",
       "| 3 | food.L1_Dry_Beans_Peas_Other_Legumes_Nuts_and_Seeds.L2_Legumes.L3_Dried_beans | food.L1_Dry_Beans_Peas_Other_Legumes_Nuts_and_Seeds.L2_Nuts_nut_butters_and_nut_mixtures.L3_Nuts                                                    |\n",
       "| 4 | food.L1_Dry_Beans_Peas_Other_Legumes_Nuts_and_Seeds.L2_Legumes.L3_Dried_beans | food.L1_Dry_Beans_Peas_Other_Legumes_Nuts_and_Seeds.L2_Seeds_and_seed_mixtures.L3_Seeds                                                             |\n",
       "| 5 | food.L1_Dry_Beans_Peas_Other_Legumes_Nuts_and_Seeds.L2_Legumes.L3_Dried_beans | food.L1_Eggs.L2_Egg_mixtures.L3_Egg_dishes_made_with_whole_eggs                                                                                     |\n",
       "| 6 | food.L1_Dry_Beans_Peas_Other_Legumes_Nuts_and_Seeds.L2_Legumes.L3_Dried_beans | food.L1_Fruits.L2_Other_fruits.L3_Fruits_excluding_berries                                                                                          |\n",
       "| 7 | food.L1_Dry_Beans_Peas_Other_Legumes_Nuts_and_Seeds.L2_Legumes.L3_Dried_beans | food.L1_Grain_Product.L2_Cakes_cookies_pies_pastries_bars.L3_Bars                                                                                   |\n",
       "| 8 | food.L1_Dry_Beans_Peas_Other_Legumes_Nuts_and_Seeds.L2_Legumes.L3_Dried_beans | food.L1_Grain_Product.L2_Cakes_cookies_pies_pastries_bars.L3_Cakes                                                                                  |\n",
       "| 9 | food.L1_Dry_Beans_Peas_Other_Legumes_Nuts_and_Seeds.L2_Legumes.L3_Dried_beans | food.L1_Grain_Product.L2_Cakes_cookies_pies_pastries_bars.L3_Cookies                                                                                |\n",
       "| 10 | food.L1_Dry_Beans_Peas_Other_Legumes_Nuts_and_Seeds.L2_Legumes.L3_Dried_beans | food.L1_Grain_Product.L2_Cakes_cookies_pies_pastries_bars.L3_Pies_fruit_pies_pie_tarts                                                              |\n",
       "| 11 | food.L1_Dry_Beans_Peas_Other_Legumes_Nuts_and_Seeds.L2_Legumes.L3_Dried_beans | food.L1_Grain_Product.L2_Cereals_not_cooked_or_NS_as_to_cooked.L3_Readytoeat_cereals                                                                |\n",
       "| 12 | food.L1_Dry_Beans_Peas_Other_Legumes_Nuts_and_Seeds.L2_Legumes.L3_Dried_beans | food.L1_Grain_Product.L2_Crackers_and_salty_snacks_from_grain.L3_Nonsweet_crackers                                                                  |\n",
       "| 13 | food.L1_Dry_Beans_Peas_Other_Legumes_Nuts_and_Seeds.L2_Legumes.L3_Dried_beans | food.L1_Grain_Product.L2_Crackers_and_salty_snacks_from_grain.L3_Salty_snacks_from_grain_products                                                   |\n",
       "| 14 | food.L1_Dry_Beans_Peas_Other_Legumes_Nuts_and_Seeds.L2_Legumes.L3_Dried_beans | food.L1_Grain_Product.L2_Grain_mixtures_frozen_plate_meals_soups.L3_Mixtures_mainly_grain_pasta_or_bread                                            |\n",
       "| 15 | food.L1_Dry_Beans_Peas_Other_Legumes_Nuts_and_Seeds.L2_Legumes.L3_Dried_beans | food.L1_Grain_Product.L2_Grain_mixtures_frozen_plate_meals_soups.L3_Soups_with_grain_product_as_major_ingredient                                    |\n",
       "| 16 | food.L1_Dry_Beans_Peas_Other_Legumes_Nuts_and_Seeds.L2_Legumes.L3_Dried_beans | food.L1_Grain_Product.L2_Pastas_cooked_cereals_rice.L3_Cooked_cereals_rice                                                                          |\n",
       "| 17 | food.L1_Dry_Beans_Peas_Other_Legumes_Nuts_and_Seeds.L2_Legumes.L3_Dried_beans | food.L1_Grain_Product.L2_Pastas_cooked_cereals_rice.L3_Pastas                                                                                       |\n",
       "| 18 | food.L1_Dry_Beans_Peas_Other_Legumes_Nuts_and_Seeds.L2_Legumes.L3_Dried_beans | food.L1_Grain_Product.L2_Quick_breads.L3_Cornbread_corn_muffins_tortillas                                                                           |\n",
       "| 19 | food.L1_Dry_Beans_Peas_Other_Legumes_Nuts_and_Seeds.L2_Legumes.L3_Dried_beans | food.L1_Grain_Product.L2_Quick_breads.L3_Other_muffins_popovers                                                                                     |\n",
       "| 20 | food.L1_Dry_Beans_Peas_Other_Legumes_Nuts_and_Seeds.L2_Legumes.L3_Dried_beans | food.L1_Grain_Product.L2_Quick_breads.L3_Other_quick_breads                                                                                         |\n",
       "| 21 | food.L1_Dry_Beans_Peas_Other_Legumes_Nuts_and_Seeds.L2_Legumes.L3_Dried_beans | food.L1_Grain_Product.L2_Yeast.L3_Breadrolls_NFS                                                                                                    |\n",
       "| 22 | food.L1_Dry_Beans_Peas_Other_Legumes_Nuts_and_Seeds.L2_Legumes.L3_Dried_beans | food.L1_Grain_Product.L2_Yeast.L3_Multigrain_breads_rolls                                                                                           |\n",
       "| 23 | food.L1_Dry_Beans_Peas_Other_Legumes_Nuts_and_Seeds.L2_Legumes.L3_Dried_beans | food.L1_Grain_Product.L2_Yeast.L3_Wheat_cracked_wheat_breads_rolls                                                                                  |\n",
       "| 24 | food.L1_Dry_Beans_Peas_Other_Legumes_Nuts_and_Seeds.L2_Legumes.L3_Dried_beans | food.L1_Grain_Product.L2_Yeast.L3_White_breads_rolls                                                                                                |\n",
       "| 25 | food.L1_Dry_Beans_Peas_Other_Legumes_Nuts_and_Seeds.L2_Legumes.L3_Dried_beans | food.L1_Grain_Product.L2_Yeast.L3_Whole_wheat_breads_rolls                                                                                          |\n",
       "| 26 | food.L1_Dry_Beans_Peas_Other_Legumes_Nuts_and_Seeds.L2_Legumes.L3_Dried_beans | food.L1_Meat_Poultry_Fish_and_Mixtures.L2_Beef.L3_Beef_NS                                                                                           |\n",
       "| 27 | food.L1_Dry_Beans_Peas_Other_Legumes_Nuts_and_Seeds.L2_Legumes.L3_Dried_beans | food.L1_Meat_Poultry_Fish_and_Mixtures.L2_Beef.L3_Beef_roasts_stew_meat_corned_beef_beef_brisket_sandwich_steaks                                    |\n",
       "| 28 | food.L1_Dry_Beans_Peas_Other_Legumes_Nuts_and_Seeds.L2_Legumes.L3_Dried_beans | food.L1_Meat_Poultry_Fish_and_Mixtures.L2_Fish_and_shellfish.L3_Finfish                                                                             |\n",
       "| 29 | food.L1_Dry_Beans_Peas_Other_Legumes_Nuts_and_Seeds.L2_Legumes.L3_Dried_beans | food.L1_Meat_Poultry_Fish_and_Mixtures.L2_Frozen_and_shelfstable_plate_meals_soups_and_gravies.L3_Soups_broths_extracts_from_meat_poultry_fish_base |\n",
       "| ⋮ | ⋮ | ⋮ |\n",
       "| 42191 | Activity.Factor | kegg.K03406       |\n",
       "| 42193 | Activity.Factor | kegg.K03832       |\n",
       "| 42194 | Activity.Factor | kegg.K05349       |\n",
       "| 42195 | Activity.Factor | kegg.K05970       |\n",
       "| 42196 | Activity.Factor | kegg.K06113       |\n",
       "| 42197 | Activity.Factor | kegg.K06147       |\n",
       "| 42198 | Activity.Factor | kegg.K06921       |\n",
       "| 42199 | Activity.Factor | kegg.K07085       |\n",
       "| 42200 | Activity.Factor | kegg.K07133       |\n",
       "| 42201 | Activity.Factor | kegg.K07154       |\n",
       "| 42202 | Activity.Factor | kegg.K07484       |\n",
       "| 42203 | Activity.Factor | kegg.K07497       |\n",
       "| 42204 | Activity.Factor | kegg.K07713       |\n",
       "| 42205 | Activity.Factor | kegg.K09955       |\n",
       "| 42206 | Activity.Factor | kegg.K12373       |\n",
       "| 42207 | Activity.Factor | kegg.K15923       |\n",
       "| 42208 | Activity.Factor | kegg.K16089       |\n",
       "| 42209 | Activity.Factor | kegg.K16785       |\n",
       "| 42212 | Activity.Factor | kegg.K21571       |\n",
       "| 42213 | Activity.Factor | kegg.K21572       |\n",
       "| 42214 | Activity.Factor | kegg.other        |\n",
       "| 42215 | Activity.Factor | StudyDayNo        |\n",
       "| 42216 | Activity.Factor | Gender            |\n",
       "| 42217 | Activity.Factor | Age               |\n",
       "| 42218 | Activity.Factor | Weight            |\n",
       "| 42219 | Activity.Factor | Height            |\n",
       "| 42220 | Activity.Factor | BMI               |\n",
       "| 42221 | Activity.Factor | Supplement        |\n",
       "| 42222 | Activity.Factor | oilGrams.assigned |\n",
       "| 42224 | Activity.Factor | Activity.Factor   |\n",
       "\n"
      ],
      "text/plain": [
       "      from                                                                         \n",
       "0     food.L1_Dry_Beans_Peas_Other_Legumes_Nuts_and_Seeds.L2_Legumes.L3_Dried_beans\n",
       "1     food.L1_Dry_Beans_Peas_Other_Legumes_Nuts_and_Seeds.L2_Legumes.L3_Dried_beans\n",
       "2     food.L1_Dry_Beans_Peas_Other_Legumes_Nuts_and_Seeds.L2_Legumes.L3_Dried_beans\n",
       "3     food.L1_Dry_Beans_Peas_Other_Legumes_Nuts_and_Seeds.L2_Legumes.L3_Dried_beans\n",
       "4     food.L1_Dry_Beans_Peas_Other_Legumes_Nuts_and_Seeds.L2_Legumes.L3_Dried_beans\n",
       "5     food.L1_Dry_Beans_Peas_Other_Legumes_Nuts_and_Seeds.L2_Legumes.L3_Dried_beans\n",
       "6     food.L1_Dry_Beans_Peas_Other_Legumes_Nuts_and_Seeds.L2_Legumes.L3_Dried_beans\n",
       "7     food.L1_Dry_Beans_Peas_Other_Legumes_Nuts_and_Seeds.L2_Legumes.L3_Dried_beans\n",
       "8     food.L1_Dry_Beans_Peas_Other_Legumes_Nuts_and_Seeds.L2_Legumes.L3_Dried_beans\n",
       "9     food.L1_Dry_Beans_Peas_Other_Legumes_Nuts_and_Seeds.L2_Legumes.L3_Dried_beans\n",
       "10    food.L1_Dry_Beans_Peas_Other_Legumes_Nuts_and_Seeds.L2_Legumes.L3_Dried_beans\n",
       "11    food.L1_Dry_Beans_Peas_Other_Legumes_Nuts_and_Seeds.L2_Legumes.L3_Dried_beans\n",
       "12    food.L1_Dry_Beans_Peas_Other_Legumes_Nuts_and_Seeds.L2_Legumes.L3_Dried_beans\n",
       "13    food.L1_Dry_Beans_Peas_Other_Legumes_Nuts_and_Seeds.L2_Legumes.L3_Dried_beans\n",
       "14    food.L1_Dry_Beans_Peas_Other_Legumes_Nuts_and_Seeds.L2_Legumes.L3_Dried_beans\n",
       "15    food.L1_Dry_Beans_Peas_Other_Legumes_Nuts_and_Seeds.L2_Legumes.L3_Dried_beans\n",
       "16    food.L1_Dry_Beans_Peas_Other_Legumes_Nuts_and_Seeds.L2_Legumes.L3_Dried_beans\n",
       "17    food.L1_Dry_Beans_Peas_Other_Legumes_Nuts_and_Seeds.L2_Legumes.L3_Dried_beans\n",
       "18    food.L1_Dry_Beans_Peas_Other_Legumes_Nuts_and_Seeds.L2_Legumes.L3_Dried_beans\n",
       "19    food.L1_Dry_Beans_Peas_Other_Legumes_Nuts_and_Seeds.L2_Legumes.L3_Dried_beans\n",
       "20    food.L1_Dry_Beans_Peas_Other_Legumes_Nuts_and_Seeds.L2_Legumes.L3_Dried_beans\n",
       "21    food.L1_Dry_Beans_Peas_Other_Legumes_Nuts_and_Seeds.L2_Legumes.L3_Dried_beans\n",
       "22    food.L1_Dry_Beans_Peas_Other_Legumes_Nuts_and_Seeds.L2_Legumes.L3_Dried_beans\n",
       "23    food.L1_Dry_Beans_Peas_Other_Legumes_Nuts_and_Seeds.L2_Legumes.L3_Dried_beans\n",
       "24    food.L1_Dry_Beans_Peas_Other_Legumes_Nuts_and_Seeds.L2_Legumes.L3_Dried_beans\n",
       "25    food.L1_Dry_Beans_Peas_Other_Legumes_Nuts_and_Seeds.L2_Legumes.L3_Dried_beans\n",
       "26    food.L1_Dry_Beans_Peas_Other_Legumes_Nuts_and_Seeds.L2_Legumes.L3_Dried_beans\n",
       "27    food.L1_Dry_Beans_Peas_Other_Legumes_Nuts_and_Seeds.L2_Legumes.L3_Dried_beans\n",
       "28    food.L1_Dry_Beans_Peas_Other_Legumes_Nuts_and_Seeds.L2_Legumes.L3_Dried_beans\n",
       "29    food.L1_Dry_Beans_Peas_Other_Legumes_Nuts_and_Seeds.L2_Legumes.L3_Dried_beans\n",
       "⋮     ⋮                                                                            \n",
       "42191 Activity.Factor                                                              \n",
       "42193 Activity.Factor                                                              \n",
       "42194 Activity.Factor                                                              \n",
       "42195 Activity.Factor                                                              \n",
       "42196 Activity.Factor                                                              \n",
       "42197 Activity.Factor                                                              \n",
       "42198 Activity.Factor                                                              \n",
       "42199 Activity.Factor                                                              \n",
       "42200 Activity.Factor                                                              \n",
       "42201 Activity.Factor                                                              \n",
       "42202 Activity.Factor                                                              \n",
       "42203 Activity.Factor                                                              \n",
       "42204 Activity.Factor                                                              \n",
       "42205 Activity.Factor                                                              \n",
       "42206 Activity.Factor                                                              \n",
       "42207 Activity.Factor                                                              \n",
       "42208 Activity.Factor                                                              \n",
       "42209 Activity.Factor                                                              \n",
       "42212 Activity.Factor                                                              \n",
       "42213 Activity.Factor                                                              \n",
       "42214 Activity.Factor                                                              \n",
       "42215 Activity.Factor                                                              \n",
       "42216 Activity.Factor                                                              \n",
       "42217 Activity.Factor                                                              \n",
       "42218 Activity.Factor                                                              \n",
       "42219 Activity.Factor                                                              \n",
       "42220 Activity.Factor                                                              \n",
       "42221 Activity.Factor                                                              \n",
       "42222 Activity.Factor                                                              \n",
       "42224 Activity.Factor                                                              \n",
       "      to                                                                                                                                                 \n",
       "0     food.L1_Dry_Beans_Peas_Other_Legumes_Nuts_and_Seeds.L2_Legumes.L3_Dried_beans                                                                      \n",
       "1     food.L1_Dry_Beans_Peas_Other_Legumes_Nuts_and_Seeds.L2_Nuts_nut_butters_and_nut_mixtures.L3_Nut_butters                                            \n",
       "2     food.L1_Dry_Beans_Peas_Other_Legumes_Nuts_and_Seeds.L2_Nuts_nut_butters_and_nut_mixtures.L3_Nut_mixtures                                           \n",
       "3     food.L1_Dry_Beans_Peas_Other_Legumes_Nuts_and_Seeds.L2_Nuts_nut_butters_and_nut_mixtures.L3_Nuts                                                   \n",
       "4     food.L1_Dry_Beans_Peas_Other_Legumes_Nuts_and_Seeds.L2_Seeds_and_seed_mixtures.L3_Seeds                                                            \n",
       "5     food.L1_Eggs.L2_Egg_mixtures.L3_Egg_dishes_made_with_whole_eggs                                                                                    \n",
       "6     food.L1_Fruits.L2_Other_fruits.L3_Fruits_excluding_berries                                                                                         \n",
       "7     food.L1_Grain_Product.L2_Cakes_cookies_pies_pastries_bars.L3_Bars                                                                                  \n",
       "8     food.L1_Grain_Product.L2_Cakes_cookies_pies_pastries_bars.L3_Cakes                                                                                 \n",
       "9     food.L1_Grain_Product.L2_Cakes_cookies_pies_pastries_bars.L3_Cookies                                                                               \n",
       "10    food.L1_Grain_Product.L2_Cakes_cookies_pies_pastries_bars.L3_Pies_fruit_pies_pie_tarts                                                             \n",
       "11    food.L1_Grain_Product.L2_Cereals_not_cooked_or_NS_as_to_cooked.L3_Readytoeat_cereals                                                               \n",
       "12    food.L1_Grain_Product.L2_Crackers_and_salty_snacks_from_grain.L3_Nonsweet_crackers                                                                 \n",
       "13    food.L1_Grain_Product.L2_Crackers_and_salty_snacks_from_grain.L3_Salty_snacks_from_grain_products                                                  \n",
       "14    food.L1_Grain_Product.L2_Grain_mixtures_frozen_plate_meals_soups.L3_Mixtures_mainly_grain_pasta_or_bread                                           \n",
       "15    food.L1_Grain_Product.L2_Grain_mixtures_frozen_plate_meals_soups.L3_Soups_with_grain_product_as_major_ingredient                                   \n",
       "16    food.L1_Grain_Product.L2_Pastas_cooked_cereals_rice.L3_Cooked_cereals_rice                                                                         \n",
       "17    food.L1_Grain_Product.L2_Pastas_cooked_cereals_rice.L3_Pastas                                                                                      \n",
       "18    food.L1_Grain_Product.L2_Quick_breads.L3_Cornbread_corn_muffins_tortillas                                                                          \n",
       "19    food.L1_Grain_Product.L2_Quick_breads.L3_Other_muffins_popovers                                                                                    \n",
       "20    food.L1_Grain_Product.L2_Quick_breads.L3_Other_quick_breads                                                                                        \n",
       "21    food.L1_Grain_Product.L2_Yeast.L3_Breadrolls_NFS                                                                                                   \n",
       "22    food.L1_Grain_Product.L2_Yeast.L3_Multigrain_breads_rolls                                                                                          \n",
       "23    food.L1_Grain_Product.L2_Yeast.L3_Wheat_cracked_wheat_breads_rolls                                                                                 \n",
       "24    food.L1_Grain_Product.L2_Yeast.L3_White_breads_rolls                                                                                               \n",
       "25    food.L1_Grain_Product.L2_Yeast.L3_Whole_wheat_breads_rolls                                                                                         \n",
       "26    food.L1_Meat_Poultry_Fish_and_Mixtures.L2_Beef.L3_Beef_NS                                                                                          \n",
       "27    food.L1_Meat_Poultry_Fish_and_Mixtures.L2_Beef.L3_Beef_roasts_stew_meat_corned_beef_beef_brisket_sandwich_steaks                                   \n",
       "28    food.L1_Meat_Poultry_Fish_and_Mixtures.L2_Fish_and_shellfish.L3_Finfish                                                                            \n",
       "29    food.L1_Meat_Poultry_Fish_and_Mixtures.L2_Frozen_and_shelfstable_plate_meals_soups_and_gravies.L3_Soups_broths_extracts_from_meat_poultry_fish_base\n",
       "⋮     ⋮                                                                                                                                                  \n",
       "42191 kegg.K03406                                                                                                                                        \n",
       "42193 kegg.K03832                                                                                                                                        \n",
       "42194 kegg.K05349                                                                                                                                        \n",
       "42195 kegg.K05970                                                                                                                                        \n",
       "42196 kegg.K06113                                                                                                                                        \n",
       "42197 kegg.K06147                                                                                                                                        \n",
       "42198 kegg.K06921                                                                                                                                        \n",
       "42199 kegg.K07085                                                                                                                                        \n",
       "42200 kegg.K07133                                                                                                                                        \n",
       "42201 kegg.K07154                                                                                                                                        \n",
       "42202 kegg.K07484                                                                                                                                        \n",
       "42203 kegg.K07497                                                                                                                                        \n",
       "42204 kegg.K07713                                                                                                                                        \n",
       "42205 kegg.K09955                                                                                                                                        \n",
       "42206 kegg.K12373                                                                                                                                        \n",
       "42207 kegg.K15923                                                                                                                                        \n",
       "42208 kegg.K16089                                                                                                                                        \n",
       "42209 kegg.K16785                                                                                                                                        \n",
       "42212 kegg.K21571                                                                                                                                        \n",
       "42213 kegg.K21572                                                                                                                                        \n",
       "42214 kegg.other                                                                                                                                         \n",
       "42215 StudyDayNo                                                                                                                                         \n",
       "42216 Gender                                                                                                                                             \n",
       "42217 Age                                                                                                                                                \n",
       "42218 Weight                                                                                                                                             \n",
       "42219 Height                                                                                                                                             \n",
       "42220 BMI                                                                                                                                                \n",
       "42221 Supplement                                                                                                                                         \n",
       "42222 oilGrams.assigned                                                                                                                                  \n",
       "42224 Activity.Factor                                                                                                                                    "
      ]
     },
     "metadata": {},
     "output_type": "display_data"
    }
   ],
   "source": [
    "blacklist_small"
   ]
  },
  {
   "cell_type": "code",
   "execution_count": 12,
   "metadata": {},
   "outputs": [],
   "source": [
    "# blacklist_small"
   ]
  },
  {
   "cell_type": "code",
   "execution_count": 13,
   "metadata": {},
   "outputs": [],
   "source": [
    "# data_small"
   ]
  },
  {
   "cell_type": "code",
   "execution_count": 14,
   "metadata": {},
   "outputs": [],
   "source": [
    "# data_small = dedup(data_small, threshold=.95)"
   ]
  },
  {
   "cell_type": "code",
   "execution_count": 15,
   "metadata": {},
   "outputs": [
    {
     "data": {
      "text/html": [
       "<style>\n",
       ".list-inline {list-style: none; margin:0; padding: 0}\n",
       ".list-inline>li {display: inline-block}\n",
       ".list-inline>li:not(:last-child)::after {content: \"\\00b7\"; padding: 0 .5ex}\n",
       "</style>\n",
       "<ol class=list-inline><li>384</li><li>227</li></ol>\n"
      ],
      "text/latex": [
       "\\begin{enumerate*}\n",
       "\\item 384\n",
       "\\item 227\n",
       "\\end{enumerate*}\n"
      ],
      "text/markdown": [
       "1. 384\n",
       "2. 227\n",
       "\n",
       "\n"
      ],
      "text/plain": [
       "[1] 384 227"
      ]
     },
     "metadata": {},
     "output_type": "display_data"
    }
   ],
   "source": [
    "dim(data)"
   ]
  },
  {
   "cell_type": "code",
   "execution_count": null,
   "metadata": {},
   "outputs": [],
   "source": [
    "learn.dag <- function() {\n",
    "    cl = makeCluster(40, type = \"SOCK\")\n",
    "    # dag = si.hiton.pc(data_small, cluster = cl, blacklist = blacklist_small, alpha = 0.05, test=\"mi-cg\")\n",
    "#     dag = si.hiton.pc(data_small, cluster = cl, blacklist = blacklist_small, alpha=0.05, undirected=T, test=\"cor\")\n",
    "    dag = si.hiton.pc(data, cluster = cl, blacklist = blacklist_small, alpha=0.05, undirected=T)\n",
    "    # dag = si.hiton.pc(data_small, blacklist = blacklist_small, alpha = 0.05)\n",
    "    on.exit(stopCluster(cl))\n",
    "    return(dag)\n",
    "}\n",
    "\n",
    "\n",
    "start_time <- Sys.time()\n",
    "dag <- learn.dag()\n",
    "end_time <- Sys.time()\n",
    "amat.data = amat(dag)\n",
    "plot(dag)\n",
    "write.table(amat.data, \"../results/dag.prediction.train.response.csv\", sep=\"\\t\")\n",
    "print(end_time - start_time)"
   ]
  },
  {
   "cell_type": "code",
   "execution_count": null,
   "metadata": {},
   "outputs": [],
   "source": [
    "dag"
   ]
  },
  {
   "cell_type": "code",
   "execution_count": null,
   "metadata": {},
   "outputs": [],
   "source": []
  },
  {
   "cell_type": "code",
   "execution_count": null,
   "metadata": {},
   "outputs": [],
   "source": [
    "colnames(data)"
   ]
  },
  {
   "cell_type": "code",
   "execution_count": null,
   "metadata": {},
   "outputs": [],
   "source": [
    "# blacklist"
   ]
  }
 ],
 "metadata": {
  "kernelspec": {
   "display_name": "R [conda env:.conda-foodworks]",
   "language": "R",
   "name": "conda-env-.conda-foodworks-r"
  },
  "language_info": {
   "codemirror_mode": "r",
   "file_extension": ".r",
   "mimetype": "text/x-r-source",
   "name": "R",
   "pygments_lexer": "r",
   "version": "4.0.5"
  }
 },
 "nbformat": 4,
 "nbformat_minor": 4
}
